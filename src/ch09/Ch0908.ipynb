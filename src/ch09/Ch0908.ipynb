{
 "metadata": {
  "language_info": {
   "codemirror_mode": {
    "name": "ipython",
    "version": 3
   },
   "file_extension": ".py",
   "mimetype": "text/x-python",
   "name": "python",
   "nbconvert_exporter": "python",
   "pygments_lexer": "ipython3",
   "version": 3
  },
  "orig_nbformat": 2
 },
 "nbformat": 4,
 "nbformat_minor": 2,
 "cells": [
  {
   "source": [
    "## 9.8. Beam Search\n",
    "解码器的输出是一段文本序列。\n",
    "-   输出文本词典：$\\mathcal{Y}$ 的大小为 $|\\mathcal{Y}|$\n",
    "-   输出序列的最大长度：$T'$\n",
    "-   所有可能的输出序列一共有 $\\mathcal{O}(|\\mathcal{Y}^{T'})$\n",
    "    -   输出序列中所有特殊符号 `<eos>` 后面的子序列都将被舍弃。"
   ],
   "cell_type": "markdown",
   "metadata": {}
  },
  {
   "source": [
    "\n",
    "### 9.8.1. Greedy Search\n",
    "对于输出序列任一时间步 $t'$，从 $|\\mathcal{Y}|$ 个词中搜索出条件概率最大的词 $y_{t'}$ 作为输出。一旦搜索出 `<eos>` 符号，或者输出序列长度达到最大长度 $T'$，即结束输出。详情参考 Fig. 9.8.1.\n",
    "\n",
    "$$\n",
    "y_{t'}=\\arg\\max_{y\\in\\mathcal{Y}} P(y|y_1,\\cdots,y_{t'-1},\\mathbf{c})\n",
    "$$"
   ],
   "cell_type": "markdown",
   "metadata": {}
  },
  {
   "source": [
    "### 9.8.2. Exhaustive Search\n",
    "穷举搜索：穷举所有可能的输出序列，输出条件概率最大的序列"
   ],
   "cell_type": "markdown",
   "metadata": {}
  },
  {
   "source": [
    "### 9.8.3. Beam Search\n",
    "束搜索是对贪婪搜索的一种改进，使用束宽超参数 $k$，在第一时间步，选取当前时间条件概率最大的 $k$ 个词，分别组成 $k$ 个候选输出序列的首词。在下个时间步，基于上个时间步的 $k$ 个候选输出序列，从 $k|\\mathcal{Y}|$ 个可能的输出序列中选取条件概率最大的 $k$ 个，作为当前时间步的候选输出序列。直到达到搜索完成条件。在最终候选输出序列的集合中，取分数最高的序列作为输出序列。\n",
    "\n",
    "评分标准：\n",
    "$$\n",
    "\\frac{1}{L^\\alpha} \\log P(y_1, \\ldots, y_{L}) = \\frac{1}{L^\\alpha} \\sum_{t'=1}^L \\log P(y_{t'} \\mid y_1, \\ldots, y_{t'-1}, \\mathbf{c}),\n",
    "$$"
   ],
   "cell_type": "markdown",
   "metadata": {}
  },
  {
   "source": [
    "### 9.8.4. Summary\n",
    "-   预测不定长序列的方法：贪婪搜索、穷举搜索和束搜索\n",
    "-   束搜索通过束宽来权衡搜索质量和计算开销"
   ],
   "cell_type": "markdown",
   "metadata": {}
  }
 ]
}