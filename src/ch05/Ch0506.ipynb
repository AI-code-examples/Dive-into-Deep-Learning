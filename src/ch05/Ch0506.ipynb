{
 "metadata": {
  "language_info": {
   "codemirror_mode": {
    "name": "ipython",
    "version": 3
   },
   "file_extension": ".py",
   "mimetype": "text/x-python",
   "name": "python",
   "nbconvert_exporter": "python",
   "pygments_lexer": "ipython3",
   "version": "3.8.8-final"
  },
  "orig_nbformat": 2,
  "kernelspec": {
   "name": "python3",
   "display_name": "Python 3",
   "language": "python"
  }
 },
 "nbformat": 4,
 "nbformat_minor": 2,
 "cells": [
  {
   "source": [
    "# 5.6 GPUs"
   ],
   "cell_type": "markdown",
   "metadata": {}
  },
  {
   "cell_type": "code",
   "execution_count": 1,
   "metadata": {},
   "outputs": [
    {
     "output_type": "execute_result",
     "data": {
      "text/plain": [
       "(cpu(0), gpu(0), gpu(1), 1)"
      ]
     },
     "metadata": {},
     "execution_count": 1
    }
   ],
   "source": [
    "# 5.6.1 Computing Devices\n",
    "from mxnet import np,npx\n",
    "from mxnet.gluon import nn\n",
    "npx.set_np()\n",
    "npx.cpu(),npx.gpu(),npx.gpu(1),npx.num_gpus()"
   ]
  },
  {
   "cell_type": "code",
   "execution_count": 3,
   "metadata": {},
   "outputs": [
    {
     "output_type": "execute_result",
     "data": {
      "text/plain": [
       "(gpu(0), cpu(0), [gpu(0)])"
      ]
     },
     "metadata": {},
     "execution_count": 3
    }
   ],
   "source": [
    "def try_gpu(i=0):\n",
    "    return npx.gpu(i) if npx.num_gpus()>= i+1 else npx.cpu()\n",
    "def try_all_gpus():\n",
    "    devices=[npx.gpu(i) for i in range(npx.num_gpus())]\n",
    "    return devices if devices else [npx.cpu()]\n",
    "try_gpu(), try_gpu(10),try_all_gpus()    "
   ]
  },
  {
   "cell_type": "code",
   "execution_count": 4,
   "metadata": {},
   "outputs": [
    {
     "output_type": "execute_result",
     "data": {
      "text/plain": [
       "cpu(0)"
      ]
     },
     "metadata": {},
     "execution_count": 4
    }
   ],
   "source": [
    "# 5.6.2 Tensors and GPUs\n",
    "x=np.array([1,2,3])\n",
    "x.ctx"
   ]
  },
  {
   "cell_type": "code",
   "execution_count": 9,
   "metadata": {},
   "outputs": [
    {
     "output_type": "execute_result",
     "data": {
      "text/plain": [
       "array([[1., 1., 1.],\n",
       "       [1., 1., 1.]], ctx=gpu(0))"
      ]
     },
     "metadata": {},
     "execution_count": 9
    }
   ],
   "source": [
    "# Storage on the GPU\n",
    "X=np.ones((2,3),ctx=try_gpu())\n",
    "X"
   ]
  },
  {
   "cell_type": "code",
   "execution_count": 10,
   "metadata": {},
   "outputs": [
    {
     "output_type": "execute_result",
     "data": {
      "text/plain": [
       "array([[0.4375872 , 0.2975346 , 0.891773  ],\n",
       "       [0.05671298, 0.96366274, 0.2726563 ]])"
      ]
     },
     "metadata": {},
     "execution_count": 10
    }
   ],
   "source": [
    "Y=np.random.uniform(size=(2,3),ctx=try_gpu(1))\n",
    "Y"
   ]
  },
  {
   "cell_type": "code",
   "execution_count": 11,
   "metadata": {},
   "outputs": [
    {
     "output_type": "execute_result",
     "data": {
      "text/plain": [
       "(array([[1., 1., 1.],\n",
       "        [1., 1., 1.]], ctx=gpu(0)),\n",
       " array([[1., 1., 1.],\n",
       "        [1., 1., 1.]]))"
      ]
     },
     "metadata": {},
     "execution_count": 11
    }
   ],
   "source": [
    "# Copying\n",
    "Z=X.copyto(try_gpu(1))\n",
    "X,Z"
   ]
  },
  {
   "cell_type": "code",
   "execution_count": 13,
   "metadata": {},
   "outputs": [
    {
     "output_type": "execute_result",
     "data": {
      "text/plain": [
       "array([[1.4375873, 1.2975346, 1.891773 ],\n",
       "       [1.056713 , 1.9636627, 1.2726563]])"
      ]
     },
     "metadata": {},
     "execution_count": 13
    }
   ],
   "source": [
    "# Note：必须在同样的计算设备上才可以进行计算\n",
    "# X+Y\n",
    "Y+Z"
   ]
  },
  {
   "cell_type": "code",
   "execution_count": 17,
   "metadata": {},
   "outputs": [
    {
     "output_type": "execute_result",
     "data": {
      "text/plain": [
       "array([[1.4375873, 1.2975346, 1.891773 ],\n",
       "       [1.056713 , 1.9636627, 1.2726563]], ctx=gpu(0))"
      ]
     },
     "metadata": {},
     "execution_count": 17
    }
   ],
   "source": [
    "Y.as_in_ctx(try_gpu())+X"
   ]
  },
  {
   "cell_type": "code",
   "execution_count": 18,
   "metadata": {},
   "outputs": [],
   "source": [
    "# Side Notes ?"
   ]
  },
  {
   "cell_type": "code",
   "execution_count": 19,
   "metadata": {},
   "outputs": [
    {
     "output_type": "execute_result",
     "data": {
      "text/plain": [
       "array([[0.02139644],\n",
       "       [0.02139644]], ctx=gpu(0))"
      ]
     },
     "metadata": {},
     "execution_count": 19
    }
   ],
   "source": [
    "# 5.6.3 Neural Networks and GPUs\n",
    "net=nn.Sequential()\n",
    "net.add(nn.Dense(1))\n",
    "net.initialize(ctx=try_gpu())\n",
    "net(X)"
   ]
  }
 ]
}