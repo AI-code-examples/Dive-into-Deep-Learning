{
 "metadata": {
  "language_info": {
   "codemirror_mode": {
    "name": "ipython",
    "version": 3
   },
   "file_extension": ".py",
   "mimetype": "text/x-python",
   "name": "python",
   "nbconvert_exporter": "python",
   "pygments_lexer": "ipython3",
   "version": "3.8.8-final"
  },
  "orig_nbformat": 2,
  "kernelspec": {
   "name": "python3",
   "display_name": "Python 3.8.8 64-bit ('mxnetcpu': conda)",
   "metadata": {
    "interpreter": {
     "hash": "31501654e2bf4fe29042e125e32fccdc90463327bf0ec9fd2043d87fff9a6008"
    }
   }
  }
 },
 "nbformat": 4,
 "nbformat_minor": 2,
 "cells": [
  {
   "source": [
    "## 5.3 Deferred Initialization\n",
    "### 5.3.1 Instantiating a Network"
   ],
   "cell_type": "markdown",
   "metadata": {}
  },
  {
   "cell_type": "code",
   "execution_count": 7,
   "metadata": {},
   "outputs": [],
   "source": [
    "from mxnet import init,np,npx\n",
    "from mxnet.gluon import nn\n",
    "npx.set_np()"
   ]
  },
  {
   "cell_type": "code",
   "execution_count": 8,
   "metadata": {},
   "outputs": [
    {
     "output_type": "stream",
     "name": "stdout",
     "text": [
      "<bound method Block.collect_params of Sequential(\n  (0): Dense(-1 -> 256, Activation(relu))\n  (1): Dense(-1 -> 10, linear)\n)>\nsequential3_ (\n  Parameter dense5_weight (shape=(256, -1), dtype=float32)\n  Parameter dense5_bias (shape=(256,), dtype=float32)\n  Parameter dense6_weight (shape=(10, -1), dtype=float32)\n  Parameter dense6_bias (shape=(10,), dtype=float32)\n)\n"
     ]
    }
   ],
   "source": [
    "def get_net():\n",
    "    net=nn.Sequential()\n",
    "    net.add(nn.Dense(256,activation='relu'))\n",
    "    net.add(nn.Dense(10))\n",
    "    return net\n",
    "\n",
    "net=get_net()\n",
    "print(net.collect_params)\n",
    "print(net.collect_params())"
   ]
  },
  {
   "cell_type": "code",
   "execution_count": 9,
   "metadata": {},
   "outputs": [
    {
     "output_type": "stream",
     "name": "stdout",
     "text": [
      "<bound method Block.collect_params of Sequential(\n  (0): Dense(-1 -> 256, Activation(relu))\n  (1): Dense(-1 -> 10, linear)\n)>\nsequential3_ (\n  Parameter dense5_weight (shape=(256, -1), dtype=float32)\n  Parameter dense5_bias (shape=(256,), dtype=float32)\n  Parameter dense6_weight (shape=(10, -1), dtype=float32)\n  Parameter dense6_bias (shape=(10,), dtype=float32)\n)\n"
     ]
    }
   ],
   "source": [
    "net.initialize()\n",
    "print(net.collect_params)\n",
    "print(net.collect_params())"
   ]
  },
  {
   "cell_type": "code",
   "execution_count": 11,
   "metadata": {},
   "outputs": [
    {
     "output_type": "stream",
     "name": "stdout",
     "text": [
      "<bound method Block.collect_params of Sequential(\n  (0): Dense(20 -> 256, Activation(relu))\n  (1): Dense(256 -> 10, linear)\n)>\nsequential3_ (\n  Parameter dense5_weight (shape=(256, 20), dtype=float32)\n  Parameter dense5_bias (shape=(256,), dtype=float32)\n  Parameter dense6_weight (shape=(10, 256), dtype=float32)\n  Parameter dense6_bias (shape=(10,), dtype=float32)\n)\n"
     ]
    }
   ],
   "source": [
    "X=np.random.uniform(size=(2,20))\n",
    "net(X)\n",
    "print(net.collect_params)\n",
    "print(net.collect_params())"
   ]
  }
 ]
}