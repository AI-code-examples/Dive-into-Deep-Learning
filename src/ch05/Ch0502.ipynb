{
 "metadata": {
  "language_info": {
   "codemirror_mode": {
    "name": "ipython",
    "version": 3
   },
   "file_extension": ".py",
   "mimetype": "text/x-python",
   "name": "python",
   "nbconvert_exporter": "python",
   "pygments_lexer": "ipython3",
   "version": "3.8.8-final"
  },
  "orig_nbformat": 2,
  "kernelspec": {
   "name": "python3",
   "display_name": "Python 3.8.8 64-bit ('mxnetcpu': conda)",
   "metadata": {
    "interpreter": {
     "hash": "31501654e2bf4fe29042e125e32fccdc90463327bf0ec9fd2043d87fff9a6008"
    }
   }
  }
 },
 "nbformat": 4,
 "nbformat_minor": 2,
 "cells": [
  {
   "source": [
    "# 5.2 Parameter Management"
   ],
   "cell_type": "markdown",
   "metadata": {}
  },
  {
   "cell_type": "code",
   "execution_count": 4,
   "metadata": {},
   "outputs": [],
   "source": [
    "import random\n",
    "\n",
    "from d2l import mxnet as d2l\n",
    "from mxnet import nd, np, npx, autograd\n",
    "from mxnet.gluon import nn\n",
    "from tools import beep_end, show_subtitle, show_title\n",
    "\n",
    "npx.set_np()"
   ]
  },
  {
   "cell_type": "code",
   "execution_count": 5,
   "metadata": {},
   "outputs": [
    {
     "output_type": "execute_result",
     "data": {
      "text/plain": [
       "array([[0.0054572 ],\n",
       "       [0.00488594]])"
      ]
     },
     "metadata": {},
     "execution_count": 5
    }
   ],
   "source": [
    "net = nn.Sequential()\n",
    "net.add(nn.Dense(8, activation='relu'))\n",
    "net.add(nn.Dense(1))\n",
    "net.initialize()\n",
    "\n",
    "X = np.random.uniform(size=(2, 4))\n",
    "net(X)"
   ]
  },
  {
   "cell_type": "code",
   "execution_count": 6,
   "metadata": {},
   "outputs": [
    {
     "output_type": "stream",
     "name": "stdout",
     "text": [
      "dense1_ (\n  Parameter dense1_weight (shape=(1, 8), dtype=float32)\n  Parameter dense1_bias (shape=(1,), dtype=float32)\n)\n"
     ]
    }
   ],
   "source": [
    "# 5.2.1 Parameter Access\n",
    "print(net[1].params)"
   ]
  },
  {
   "cell_type": "code",
   "execution_count": 7,
   "metadata": {},
   "outputs": [
    {
     "output_type": "stream",
     "name": "stdout",
     "text": [
      "<class 'mxnet.gluon.parameter.Parameter'>\nParameter dense1_bias (shape=(1,), dtype=float32)\n[0.]\n"
     ]
    }
   ],
   "source": [
    "# Targeted Parameters\n",
    "print(type(net[1].bias))\n",
    "print(net[1].bias)\n",
    "print(net[1].bias.data())"
   ]
  },
  {
   "cell_type": "code",
   "execution_count": 9,
   "metadata": {},
   "outputs": [
    {
     "output_type": "execute_result",
     "data": {
      "text/plain": [
       "array([[0., 0., 0., 0., 0., 0., 0., 0.]])"
      ]
     },
     "metadata": {},
     "execution_count": 9
    }
   ],
   "source": [
    "# 没有反向传播的梯度为零\n",
    "net[1].weight.grad()"
   ]
  },
  {
   "cell_type": "code",
   "execution_count": 15,
   "metadata": {},
   "outputs": [
    {
     "output_type": "stream",
     "name": "stdout",
     "text": [
      "sequential1_ (\n  Parameter dense0_weight (shape=(8, 4), dtype=float32)\n  Parameter dense0_bias (shape=(8,), dtype=float32)\n  Parameter dense1_weight (shape=(1, 8), dtype=float32)\n  Parameter dense1_bias (shape=(1,), dtype=float32)\n)\ndense0_ (\n  Parameter dense0_weight (shape=(8, 4), dtype=float32)\n  Parameter dense0_bias (shape=(8,), dtype=float32)\n)\nParameter dense1_bias (shape=(1,), dtype=float32)\n<bound method Parameter.data of Parameter dense1_bias (shape=(1,), dtype=float32)>\n[0.]\n"
     ]
    }
   ],
   "source": [
    "# All Parameters at Once\n",
    "print(net.collect_params())\n",
    "print(net[0].collect_params())\n",
    "print(net.collect_params()['dense1_bias'])\n",
    "print(net.collect_params()['dense1_bias'].data)\n",
    "print(net.collect_params()['dense1_bias'].data())"
   ]
  },
  {
   "cell_type": "code",
   "execution_count": 16,
   "metadata": {},
   "outputs": [
    {
     "output_type": "execute_result",
     "data": {
      "text/plain": [
       "array([[-6.3465850e-09, -1.1096741e-09,  6.4161783e-09,  6.6354131e-09,\n",
       "        -1.1265494e-09,  1.3285140e-10,  9.3619370e-09,  3.2229102e-09,\n",
       "         5.9429874e-09,  8.8181427e-09],\n",
       "       [-8.6219414e-09, -7.5150730e-10,  8.3133251e-09,  8.9321119e-09,\n",
       "        -1.6740000e-09,  3.2406028e-10,  1.2115975e-08,  4.4926440e-09,\n",
       "         8.0741742e-09,  1.2075873e-08]])"
      ]
     },
     "metadata": {},
     "execution_count": 16
    }
   ],
   "source": [
    "# Collecting Parameters from Nested Blocks\n",
    "def block1():\n",
    "    net=nn.Sequential()\n",
    "    net.add(nn.Dense(32,activation='relu'))\n",
    "    net.add(nn.Dense(16,activation='relu'))\n",
    "    return net\n",
    "\n",
    "def block2():\n",
    "    net=nn.Sequential()\n",
    "    for _ in range(4):\n",
    "        net.add(block1())\n",
    "    return net\n",
    "\n",
    "rgnet=nn.Sequential()\n",
    "rgnet.add(block2())\n",
    "rgnet.add(nn.Dense(10))\n",
    "rgnet.initialize()\n",
    "rgnet(X)"
   ]
  },
  {
   "cell_type": "code",
   "execution_count": 17,
   "metadata": {},
   "outputs": [
    {
     "output_type": "stream",
     "name": "stdout",
     "text": [
      "<bound method Block.collect_params of Sequential(\n  (0): Sequential(\n    (0): Sequential(\n      (0): Dense(4 -> 32, Activation(relu))\n      (1): Dense(32 -> 16, Activation(relu))\n    )\n    (1): Sequential(\n      (0): Dense(16 -> 32, Activation(relu))\n      (1): Dense(32 -> 16, Activation(relu))\n    )\n    (2): Sequential(\n      (0): Dense(16 -> 32, Activation(relu))\n      (1): Dense(32 -> 16, Activation(relu))\n    )\n    (3): Sequential(\n      (0): Dense(16 -> 32, Activation(relu))\n      (1): Dense(32 -> 16, Activation(relu))\n    )\n  )\n  (1): Dense(16 -> 10, linear)\n)>\nsequential2_ (\n  Parameter dense2_weight (shape=(32, 4), dtype=float32)\n  Parameter dense2_bias (shape=(32,), dtype=float32)\n  Parameter dense3_weight (shape=(16, 32), dtype=float32)\n  Parameter dense3_bias (shape=(16,), dtype=float32)\n  Parameter dense4_weight (shape=(32, 16), dtype=float32)\n  Parameter dense4_bias (shape=(32,), dtype=float32)\n  Parameter dense5_weight (shape=(16, 32), dtype=float32)\n  Parameter dense5_bias (shape=(16,), dtype=float32)\n  Parameter dense6_weight (shape=(32, 16), dtype=float32)\n  Parameter dense6_bias (shape=(32,), dtype=float32)\n  Parameter dense7_weight (shape=(16, 32), dtype=float32)\n  Parameter dense7_bias (shape=(16,), dtype=float32)\n  Parameter dense8_weight (shape=(32, 16), dtype=float32)\n  Parameter dense8_bias (shape=(32,), dtype=float32)\n  Parameter dense9_weight (shape=(16, 32), dtype=float32)\n  Parameter dense9_bias (shape=(16,), dtype=float32)\n  Parameter dense10_weight (shape=(10, 16), dtype=float32)\n  Parameter dense10_bias (shape=(10,), dtype=float32)\n)\n"
     ]
    }
   ],
   "source": [
    "print(rgnet.collect_params)\n",
    "print(rgnet.collect_params())"
   ]
  },
  {
   "cell_type": "code",
   "execution_count": 22,
   "metadata": {},
   "outputs": [
    {
     "output_type": "execute_result",
     "data": {
      "text/plain": [
       "(32, 16)"
      ]
     },
     "metadata": {},
     "execution_count": 22
    }
   ],
   "source": [
    "rgnet[0][1][0].weight.data().shape"
   ]
  },
  {
   "source": [
    "# 5.2.2 Parameter Initialization"
   ],
   "cell_type": "markdown",
   "metadata": {}
  },
  {
   "cell_type": "code",
   "execution_count": 34,
   "metadata": {},
   "outputs": [
    {
     "output_type": "stream",
     "name": "stdout",
     "text": [
      "<bound method Block.collect_params of Sequential(\n  (0): Dense(4 -> 8, Activation(relu))\n  (1): Dense(8 -> 1, linear)\n)>\n(8, 4)\n(1, 8)\n[[ 7.1235225e-03 -4.0872735e-03 -2.2102301e-03 -7.9420395e-03\n  -1.4507023e-05 -6.5906444e-03  9.6617080e-03 -5.1257055e-04]]\n"
     ]
    }
   ],
   "source": [
    "# Built-in Initialization\n",
    "net.initialize(init=init.Normal(sigma=0.01),force_reinit=True)\n",
    "print(net.collect_params)\n",
    "for i in range(2):\n",
    "    print(net[i].weight.data().shape)\n",
    "print(net[1].weight.data())"
   ]
  },
  {
   "cell_type": "code",
   "execution_count": 35,
   "metadata": {},
   "outputs": [
    {
     "output_type": "stream",
     "name": "stdout",
     "text": [
      "[-0.10038978  0.07147181  0.24065346  0.1369614 ]\n[[42. 42. 42. 42. 42. 42. 42. 42.]]\n"
     ]
    }
   ],
   "source": [
    "net[0].weight.initialize(init=init.Xavier(),force_reinit=True)\n",
    "net[1].initialize(init=init.Constant(42),force_reinit=True)\n",
    "print(net[0].weight.data()[0])\n",
    "print(net[1].weight.data())"
   ]
  },
  {
   "source": [
    "# Custom Initialization\n",
    "$$\n",
    "w\\sim\n",
    "\\begin{cases}\n",
    "    U(5,10)     &\\text{with probability}\\frac14\\\\\n",
    "    0           &\\text{with probability}\\frac12\\\\\n",
    "    U(-10,-5)   &\\text{with probability}\\frac14\n",
    "\\end{cases}\n",
    "$$\n"
   ],
   "cell_type": "markdown",
   "metadata": {}
  },
  {
   "cell_type": "code",
   "execution_count": 36,
   "metadata": {},
   "outputs": [
    {
     "output_type": "stream",
     "name": "stdout",
     "text": [
      "Init dense0_weight (8, 4)\nInit dense1_weight (1, 8)\n"
     ]
    },
    {
     "output_type": "execute_result",
     "data": {
      "text/plain": [
       "array([[-5.4289   , -0.       ,  0.       ,  0.       ],\n",
       "       [-7.6447773, -0.       , -0.       , -7.3833103]])"
      ]
     },
     "metadata": {},
     "execution_count": 36
    }
   ],
   "source": [
    "class MyInit(init.Initializer):\n",
    "    def _init_weight(self,name,data):\n",
    "        print(\"Init\",name,data.shape)\n",
    "        data[:]=np.random.uniform(-10,10,data.shape)\n",
    "        data *=np.abs(data)>=5\n",
    "net.initialize(MyInit(), force_reinit=True)\n",
    "net[0].weight.data()[:2]"
   ]
  },
  {
   "cell_type": "code",
   "execution_count": 37,
   "metadata": {},
   "outputs": [
    {
     "output_type": "execute_result",
     "data": {
      "text/plain": [
       "array([42.,  1.,  1.,  1.])"
      ]
     },
     "metadata": {},
     "execution_count": 37
    }
   ],
   "source": [
    "net[0].weight.data()[:]+=1\n",
    "net[0].weight.data()[0,0]=42\n",
    "net[0].weight.data()[0]"
   ]
  },
  {
   "cell_type": "code",
   "execution_count": 46,
   "metadata": {},
   "outputs": [
    {
     "output_type": "execute_result",
     "data": {
      "text/plain": [
       "array([[ 4.5340348e-06,  2.7714882e-06, -5.8970040e-06, -1.9037822e-06,\n",
       "        -3.3228816e-06, -2.0109283e-06, -1.0713403e-06, -3.0010981e-06,\n",
       "        -6.3866952e-07, -3.3046599e-06],\n",
       "       [ 4.9130149e-06,  2.7640087e-06, -6.5713130e-06, -1.5822588e-06,\n",
       "        -3.2026455e-06, -1.7541328e-06, -1.1843973e-06, -2.9902185e-06,\n",
       "        -1.1149889e-06, -3.5961193e-06]])"
      ]
     },
     "metadata": {},
     "execution_count": 46
    }
   ],
   "source": [
    "# 5.2.3 Tied Parameters\n",
    "# 共享参数\n",
    "net=nn.Sequential()\n",
    "shared=nn.Dense(8,activation='relu')\n",
    "net.add(nn.Dense(8,activation='relu'),\n",
    "        shared,\n",
    "        nn.Dense(8,activation='relu'),\n",
    "        nn.Dense(8,activation='relu',params=shared.params),\n",
    "        nn.Dense(10))\n",
    "net.initialize()\n",
    "\n",
    "X=np.random.uniform(size=(2,20))\n",
    "net(X)"
   ]
  },
  {
   "cell_type": "code",
   "execution_count": 47,
   "metadata": {},
   "outputs": [
    {
     "output_type": "stream",
     "name": "stdout",
     "text": [
      "<bound method Block.collect_params of Sequential(\n  (0): Dense(20 -> 8, Activation(relu))\n  (1): Dense(8 -> 8, Activation(relu))\n  (2): Dense(8 -> 8, Activation(relu))\n  (3): Dense(8 -> 8, Activation(relu))\n  (4): Dense(8 -> 10, linear)\n)>\n[False False False False False False False False]\n[ True  True  True  True  True  True  True  True]\n"
     ]
    }
   ],
   "source": [
    "print(net.collect_params)\n",
    "print(net[1].weight.data()[0]==net[2].weight.data()[0])\n",
    "print(net[1].weight.data()[0]==net[3].weight.data()[0])"
   ]
  },
  {
   "cell_type": "code",
   "execution_count": null,
   "metadata": {},
   "outputs": [],
   "source": []
  }
 ]
}