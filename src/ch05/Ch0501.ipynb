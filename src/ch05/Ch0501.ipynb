{
 "metadata": {
  "language_info": {
   "codemirror_mode": {
    "name": "ipython",
    "version": 3
   },
   "file_extension": ".py",
   "mimetype": "text/x-python",
   "name": "python",
   "nbconvert_exporter": "python",
   "pygments_lexer": "ipython3",
   "version": "3.8.8-final"
  },
  "orig_nbformat": 2,
  "kernelspec": {
   "name": "python3",
   "display_name": "Python 3",
   "language": "python"
  }
 },
 "nbformat": 4,
 "nbformat_minor": 2,
 "cells": [
  {
   "source": [
    "# Ch05. Deep Learning Computation\n",
    "## 5.1 Layers and Blocks"
   ],
   "cell_type": "markdown",
   "metadata": {}
  },
  {
   "cell_type": "code",
   "execution_count": 1,
   "metadata": {},
   "outputs": [],
   "source": [
    "from mxnet import np,npx\n",
    "from mxnet.gluon import nn\n",
    "npx.set_np()"
   ]
  },
  {
   "cell_type": "code",
   "execution_count": 9,
   "metadata": {},
   "outputs": [
    {
     "output_type": "stream",
     "name": "stdout",
     "text": [
      "[[0.5244929  0.27717388 0.45943195 0.26419154 0.62452465 0.07948767\n  0.729858   0.82709134 0.9121407  0.6325586  0.58385587 0.02031024\n  0.9023594  0.05920758 0.9929139  0.33857688 0.54573417 0.3061341\n  0.25212002 0.87476176]\n [0.6425134  0.56946045 0.7291909  0.09361915 0.64827555 0.09434061\n  0.05570889 0.64150625 0.18864442 0.37547633 0.23858361 0.9407423\n  0.2450219  0.15967701 0.9391073  0.8505674  0.6680149  0.18208402\n  0.2321935  0.31100443]]\n"
     ]
    },
    {
     "output_type": "execute_result",
     "data": {
      "text/plain": [
       "array([[ 0.11196154, -0.03203352, -0.11136746, -0.00042839,  0.00577225,\n",
       "         0.02923119, -0.03771511, -0.05057289,  0.012499  , -0.07507581],\n",
       "       [ 0.09532058, -0.04891215, -0.08393399, -0.03934758, -0.01236376,\n",
       "         0.07096371, -0.05273829, -0.03675307,  0.07640459, -0.04559512]])"
      ]
     },
     "metadata": {},
     "execution_count": 9
    }
   ],
   "source": [
    "net=nn.Sequential()\n",
    "net.add(nn.Dense(256,activation='relu'))\n",
    "net.add(nn.Dense(10))\n",
    "net.initialize()\n",
    "\n",
    "X=np.random.uniform(size=(2,20))\n",
    "print(X)\n",
    "net(X)"
   ]
  },
  {
   "cell_type": "code",
   "execution_count": 4,
   "metadata": {},
   "outputs": [],
   "source": [
    "# 5.1.1 A Custom Block\n",
    "class MLP(nn.Block):\n",
    "    def __init__(self,**kwargs):\n",
    "        super().__init__(**kwargs)\n",
    "        self.hidden=nn.Dense(256,activation='relu')\n",
    "        self.out=nn.Dense(10)\n",
    "    def forward(self,X):\n",
    "        return self.out(self.hidden(X))"
   ]
  },
  {
   "cell_type": "code",
   "execution_count": 5,
   "metadata": {},
   "outputs": [
    {
     "output_type": "execute_result",
     "data": {
      "text/plain": [
       "array([[ 0.03333075, -0.00020987,  0.0087921 , -0.02916729,  0.0503433 ,\n",
       "         0.04706917,  0.04869975, -0.01487542, -0.00142947,  0.01638612],\n",
       "       [ 0.0372573 , -0.01963825, -0.04683002, -0.03069271,  0.01393091,\n",
       "         0.04475477,  0.02624594, -0.00272092, -0.02361028,  0.01886239]])"
      ]
     },
     "metadata": {},
     "execution_count": 5
    }
   ],
   "source": [
    "net=MLP()\n",
    "net.initialize()\n",
    "net(X)"
   ]
  },
  {
   "cell_type": "code",
   "execution_count": 6,
   "metadata": {},
   "outputs": [],
   "source": [
    "# 5.1.2 The Sequential Block\n",
    "class MySequential(nn.Block):\n",
    "    def add(self, block):\n",
    "        self._children[block.name]=block\n",
    "    def forward(self,X):\n",
    "        for block in self._children.values():\n",
    "            X=block(X)\n",
    "        return X"
   ]
  },
  {
   "cell_type": "code",
   "execution_count": 11,
   "metadata": {},
   "outputs": [
    {
     "output_type": "execute_result",
     "data": {
      "text/plain": [
       "array([[ 0.01456538, -0.0146833 ,  0.02022494, -0.05011837,  0.04310356,\n",
       "         0.03839159, -0.00798961, -0.00444266, -0.05437186,  0.02408027],\n",
       "       [ 0.04924705,  0.006925  ,  0.05610218, -0.05266779,  0.01618375,\n",
       "         0.06415477,  0.00700657, -0.03358176, -0.0182515 ,  0.00162864]])"
      ]
     },
     "metadata": {},
     "execution_count": 11
    }
   ],
   "source": [
    "net=MySequential()\n",
    "net.add(nn.Dense(256,activation='relu'))\n",
    "net.add(nn.Dense(10))\n",
    "net.initialize()\n",
    "net(X)"
   ]
  },
  {
   "cell_type": "code",
   "execution_count": 12,
   "metadata": {},
   "outputs": [],
   "source": [
    "# 5.1.3 Executing Code in the Forward Propagation Function\n",
    "class FixedHiddenMLP(nn.Block):\n",
    "    def __init__(self, **kwargs):\n",
    "        super().__init__(**kwargs)\n",
    "        self.rand_weight = self.params.get_constant('rand_weight', \n",
    "                                                    np.random.uniform(size=(20, 20)))\n",
    "        self.dense = nn.Dense(20, activation='relu')\n",
    "\n",
    "    def forward(self, X):\n",
    "        X = self.dense(X)\n",
    "        X = npx.relu(np.dot(X, self.rand_weight.data()) + 1)\n",
    "        X = self.dense(X)\n",
    "        while np.abs(X).sum() > 1:\n",
    "            X /= 2\n",
    "        return X.sum()"
   ]
  },
  {
   "cell_type": "code",
   "execution_count": 13,
   "metadata": {},
   "outputs": [
    {
     "output_type": "execute_result",
     "data": {
      "text/plain": [
       "array(0.510016)"
      ]
     },
     "metadata": {},
     "execution_count": 13
    }
   ],
   "source": [
    "net = FixedHiddenMLP()\n",
    "net.initialize()\n",
    "net(X)"
   ]
  },
  {
   "cell_type": "code",
   "execution_count": 14,
   "metadata": {},
   "outputs": [],
   "source": [
    "class NestMLP(nn.Block):\n",
    "    def __init__(self, **kwargs):\n",
    "        super(NestMLP, self).__init__(**kwargs)\n",
    "        self.net = nn.Sequential()\n",
    "        self.net.add(nn.Dense(64, activation='relu'),\n",
    "                     nn.Dense(32, activation='relu'))\n",
    "        self.dense = nn.Dense(16, activation='relu')\n",
    "\n",
    "    def forward(self, X):\n",
    "        return self.dense(self.net(X))"
   ]
  },
  {
   "cell_type": "code",
   "execution_count": 33,
   "metadata": {},
   "outputs": [
    {
     "output_type": "execute_result",
     "data": {
      "text/plain": [
       "array(0.9472705)"
      ]
     },
     "metadata": {},
     "execution_count": 33
    }
   ],
   "source": [
    "chimera = nn.Sequential()\n",
    "chimera.add(NestMLP(), nn.Dense(20), FixedHiddenMLP())\n",
    "chimera.initialize()\n",
    "chimera(X)"
   ]
  },
  {
   "cell_type": "code",
   "execution_count": null,
   "metadata": {},
   "outputs": [],
   "source": [
    "# 5.1.4 Efficiency"
   ]
  }
 ]
}