{
 "metadata": {
  "language_info": {
   "codemirror_mode": {
    "name": "ipython",
    "version": 3
   },
   "file_extension": ".py",
   "mimetype": "text/x-python",
   "name": "python",
   "nbconvert_exporter": "python",
   "pygments_lexer": "ipython3",
   "version": "3.8.8-final"
  },
  "orig_nbformat": 2,
  "kernelspec": {
   "name": "python3",
   "display_name": "Python 3.8.8 64-bit ('mxnetcpu': conda)",
   "metadata": {
    "interpreter": {
     "hash": "31501654e2bf4fe29042e125e32fccdc90463327bf0ec9fd2043d87fff9a6008"
    }
   }
  }
 },
 "nbformat": 4,
 "nbformat_minor": 2,
 "cells": [
  {
   "source": [
    "## 5.4 Custom Layers\n",
    "### 5.4.1 Layers without Parameters"
   ],
   "cell_type": "markdown",
   "metadata": {}
  },
  {
   "cell_type": "code",
   "execution_count": 2,
   "metadata": {},
   "outputs": [],
   "source": [
    "from mxnet import gluon,np,npx\n",
    "from mxnet.gluon import nn\n",
    "npx.set_np()"
   ]
  },
  {
   "cell_type": "code",
   "execution_count": 3,
   "metadata": {},
   "outputs": [
    {
     "output_type": "execute_result",
     "data": {
      "text/plain": [
       "array([-2., -1.,  0.,  1.,  2.])"
      ]
     },
     "metadata": {},
     "execution_count": 3
    }
   ],
   "source": [
    "class CenteredLayer(nn.Block):\n",
    "    def __init__(self, **kwargs):\n",
    "        super().__init__(**kwargs)\n",
    "    def forward(self,X):\n",
    "        return X-X.mean()\n",
    "layer=CenteredLayer()\n",
    "layer(np.array([1,2,3,4,5]))        "
   ]
  },
  {
   "cell_type": "code",
   "execution_count": 5,
   "metadata": {},
   "outputs": [
    {
     "output_type": "execute_result",
     "data": {
      "text/plain": [
       "array(-6.2573235e-10)"
      ]
     },
     "metadata": {},
     "execution_count": 5
    }
   ],
   "source": [
    "net=nn.Sequential()\n",
    "net.add(nn.Dense(128),CenteredLayer())\n",
    "net.initialize()\n",
    "\n",
    "# Note: 被「居中」层处理过的数据的均值接近 0\n",
    "net(np.random.uniform(size=(4,8))).mean()"
   ]
  },
  {
   "cell_type": "code",
   "execution_count": 6,
   "metadata": {},
   "outputs": [
    {
     "output_type": "execute_result",
     "data": {
      "text/plain": [
       "mydense0_ (\n",
       "  Parameter mydense0_weight (shape=(5, 3), dtype=<class 'numpy.float32'>)\n",
       "  Parameter mydense0_bias (shape=(3,), dtype=<class 'numpy.float32'>)\n",
       ")"
      ]
     },
     "metadata": {},
     "execution_count": 6
    }
   ],
   "source": [
    "# 5.4.2 Layers with Parameters\n",
    "class MyDense(nn.Block):\n",
    "    def __init__(self, units, in_units, **kwargs):\n",
    "        super().__init__(**kwargs)\n",
    "        # 初始化参数\n",
    "        self.weight=self.params.get('weight', shape=(in_units,units))\n",
    "        self.bias=self.params.get('bias',shape=(units,))\n",
    "    def forward(self,x):\n",
    "        linear=np.dot(x, self.weight.data(ctx=x.ctx))+self.bias.data(ctx=x.ctx)\n",
    "        return npx.relu(linear)\n",
    "dense=MyDense(units=3,in_units=5)\n",
    "dense.collect_params()"
   ]
  },
  {
   "cell_type": "code",
   "execution_count": 7,
   "metadata": {},
   "outputs": [
    {
     "output_type": "execute_result",
     "data": {
      "text/plain": [
       "array([[0.        , 0.        , 0.00865269],\n",
       "       [0.        , 0.02834726, 0.09109452]])"
      ]
     },
     "metadata": {},
     "execution_count": 7
    }
   ],
   "source": [
    "dense.initialize()\n",
    "dense(np.random.uniform(size=(2,5)))"
   ]
  },
  {
   "cell_type": "code",
   "execution_count": 9,
   "metadata": {},
   "outputs": [
    {
     "output_type": "execute_result",
     "data": {
      "text/plain": [
       "array([[0.03710656],\n",
       "       [0.04621164]])"
      ]
     },
     "metadata": {},
     "execution_count": 9
    }
   ],
   "source": [
    "# 使用自定义层\n",
    "net=nn.Sequential()\n",
    "net.add(MyDense(units=8,in_units=64),\n",
    "        MyDense(units=1,in_units=8))\n",
    "net.initialize()\n",
    "net(np.random.uniform(size=(2,64)))"
   ]
  }
 ]
}