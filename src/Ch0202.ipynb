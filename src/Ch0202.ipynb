{
 "metadata": {
  "language_info": {
   "codemirror_mode": {
    "name": "ipython",
    "version": 3
   },
   "file_extension": ".py",
   "mimetype": "text/x-python",
   "name": "python",
   "nbconvert_exporter": "python",
   "pygments_lexer": "ipython3",
   "version": "3.8.8-final"
  },
  "orig_nbformat": 2,
  "kernelspec": {
   "name": "python3",
   "display_name": "Python 3.8.8 64-bit ('mxnetcpu': conda)",
   "metadata": {
    "interpreter": {
     "hash": "31501654e2bf4fe29042e125e32fccdc90463327bf0ec9fd2043d87fff9a6008"
    }
   }
  }
 },
 "nbformat": 4,
 "nbformat_minor": 2,
 "cells": [
  {
   "source": [
    "## 2.2 Data Preprocessing\n",
    "### 2.2.1 Reading the Dataset"
   ],
   "cell_type": "markdown",
   "metadata": {}
  },
  {
   "cell_type": "code",
   "execution_count": 1,
   "metadata": {},
   "outputs": [],
   "source": [
    "import os\n",
    "os.makedirs(os.path.join('src','data'), exist_ok=True)\n",
    "data_file=os.path.join('src','data','house_tiny.csv')\n",
    "with open(data_file, 'w') as f:\n",
    "    f.write('NumRooms, Alley, Price\\n')     # Column names\n",
    "    f.write('NA,Pave,127500\\n')             # Each row represents a data example\n",
    "    f.write('2,NA,106000\\n')                # 数据不能加空格，「 NA」与「NA」是两种数据\n",
    "    f.write('4,NA,178100\\n')\n",
    "    f.write('NA,NA,140000\\n')\n",
    "    f.write('6.0,NA,134000')"
   ]
  },
  {
   "cell_type": "code",
   "execution_count": 2,
   "metadata": {},
   "outputs": [
    {
     "output_type": "stream",
     "name": "stdout",
     "text": [
      "   NumRooms  Alley   Price\n0       NaN   Pave  127500\n1       2.0    NaN  106000\n2       4.0    NaN  178100\n3       NaN    NaN  140000\n4       6.0    NaN  134000\n"
     ]
    }
   ],
   "source": [
    "import pandas as pd\n",
    "\n",
    "data_file=os.path.join('src','data','house_tiny.csv')\n",
    "data=pd.read_csv(data_file)\n",
    "print(data)"
   ]
  },
  {
   "source": [
    "### 2.2.2 Handling Missing Data"
   ],
   "cell_type": "markdown",
   "metadata": {}
  },
  {
   "cell_type": "code",
   "execution_count": 3,
   "metadata": {},
   "outputs": [
    {
     "output_type": "stream",
     "name": "stdout",
     "text": [
      "   NumRooms  Alley\n0       4.0   Pave\n1       2.0    NaN\n2       4.0    NaN\n3       4.0    NaN\n4       6.0    NaN\n"
     ]
    }
   ],
   "source": [
    "inputs, outputs=data.iloc[:,0:2], data.iloc[:,2]\n",
    "inputs=inputs.fillna(inputs.mean())\n",
    "print(inputs)"
   ]
  },
  {
   "cell_type": "code",
   "execution_count": 4,
   "metadata": {},
   "outputs": [
    {
     "output_type": "stream",
     "name": "stdout",
     "text": [
      "   NumRooms   Alley_Pave   Alley_nan\n0       4.0            1           0\n1       2.0            0           1\n2       4.0            0           1\n3       4.0            0           1\n4       6.0            0           1\n"
     ]
    }
   ],
   "source": [
    "inputs=pd.get_dummies(inputs, dummy_na=True)\n",
    "print(inputs)"
   ]
  },
  {
   "source": [
    "### 2.2.3 Conversion to the Tensor Format"
   ],
   "cell_type": "markdown",
   "metadata": {}
  },
  {
   "cell_type": "code",
   "execution_count": 5,
   "metadata": {},
   "outputs": [
    {
     "output_type": "execute_result",
     "data": {
      "text/plain": [
       "(array([[4., 1., 0.],\n",
       "        [2., 0., 1.],\n",
       "        [4., 0., 1.],\n",
       "        [4., 0., 1.],\n",
       "        [6., 0., 1.]], dtype=float64),\n",
       " array([127500, 106000, 178100, 140000, 134000], dtype=int64))"
      ]
     },
     "metadata": {},
     "execution_count": 5
    }
   ],
   "source": [
    "from mxnet import np\n",
    "\n",
    "X,y=np.array(inputs.values), np.array(outputs.values)\n",
    "X,y"
   ]
  }
 ]
}