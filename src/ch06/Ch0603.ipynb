{
 "metadata": {
  "language_info": {
   "codemirror_mode": {
    "name": "ipython",
    "version": 3
   },
   "file_extension": ".py",
   "mimetype": "text/x-python",
   "name": "python",
   "nbconvert_exporter": "python",
   "pygments_lexer": "ipython3",
   "version": "3.8.8-final"
  },
  "orig_nbformat": 2,
  "kernelspec": {
   "name": "python3",
   "display_name": "Python 3.8.8 64-bit",
   "metadata": {
    "interpreter": {
     "hash": "31501654e2bf4fe29042e125e32fccdc90463327bf0ec9fd2043d87fff9a6008"
    }
   }
  }
 },
 "nbformat": 4,
 "nbformat_minor": 2,
 "cells": [
  {
   "source": [
    "## 6.3 Padding and Stride"
   ],
   "cell_type": "markdown",
   "metadata": {}
  },
  {
   "cell_type": "code",
   "execution_count": 1,
   "metadata": {},
   "outputs": [],
   "source": [
    "from mxnet import np,npx\n",
    "from mxnet.gluon import nn\n",
    "npx.set_np()"
   ]
  },
  {
   "cell_type": "code",
   "execution_count": 5,
   "metadata": {},
   "outputs": [
    {
     "output_type": "execute_result",
     "data": {
      "text/plain": [
       "((8, 8), (6, 6), (8, 8))"
      ]
     },
     "metadata": {},
     "execution_count": 5
    }
   ],
   "source": [
    "# 6.3.1 Padding\n",
    "def comp_conv2d(conv2d,X):\n",
    "    conv2d.initialize()\n",
    "    X=X.reshape((1,1)+X.shape)  # 元组相加→将输入数据从二维扩展到四维\n",
    "    Y=conv2d(X)\n",
    "    return Y.reshape(Y.shape[2:]) # 将输出数据从四维缩减成二维\n",
    "\n",
    "conv2d_0=nn.Conv2D(1,kernel_size=3,padding=0)\n",
    "conv2d_1=nn.Conv2D(1,kernel_size=3,padding=1)\n",
    "X=np.random.uniform(size=(8,8))\n",
    "X.shape, comp_conv2d(conv2d_0,X).shape, comp_conv2d(conv2d_1,X).shape"
   ]
  },
  {
   "cell_type": "code",
   "execution_count": 7,
   "metadata": {},
   "outputs": [
    {
     "output_type": "execute_result",
     "data": {
      "text/plain": [
       "((8, 8), (8, 8))"
      ]
     },
     "metadata": {},
     "execution_count": 7
    }
   ],
   "source": [
    "conv2d=nn.Conv2D(1,kernel_size=(5,3),padding=(2,1))\n",
    "X.shape, comp_conv2d(conv2d, X).shape"
   ]
  },
  {
   "cell_type": "code",
   "execution_count": 8,
   "metadata": {},
   "outputs": [
    {
     "output_type": "execute_result",
     "data": {
      "text/plain": [
       "((8, 8), (4, 4))"
      ]
     },
     "metadata": {},
     "execution_count": 8
    }
   ],
   "source": [
    "# 6.3.2 Stride\n",
    "conv2d=nn.Conv2D(1,kernel_size=3,padding=1,strides=2)\n",
    "X.shape, comp_conv2d(conv2d, X).shape"
   ]
  },
  {
   "cell_type": "code",
   "execution_count": 9,
   "metadata": {},
   "outputs": [
    {
     "output_type": "execute_result",
     "data": {
      "text/plain": [
       "((8, 8), (2, 2))"
      ]
     },
     "metadata": {},
     "execution_count": 9
    }
   ],
   "source": [
    "conv2d=nn.Conv2D(1,kernel_size=(3,5),padding=(0,1),strides=(3,4))\n",
    "X.shape, comp_conv2d(conv2d, X).shape"
   ]
  },
  {
   "cell_type": "code",
   "execution_count": null,
   "metadata": {},
   "outputs": [],
   "source": []
  }
 ]
}