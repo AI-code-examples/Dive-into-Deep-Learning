{
 "metadata": {
  "language_info": {
   "codemirror_mode": {
    "name": "ipython",
    "version": 3
   },
   "file_extension": ".py",
   "mimetype": "text/x-python",
   "name": "python",
   "nbconvert_exporter": "python",
   "pygments_lexer": "ipython3",
   "version": "3.8.8-final"
  },
  "orig_nbformat": 2,
  "kernelspec": {
   "name": "python3",
   "display_name": "Python 3",
   "language": "python"
  }
 },
 "nbformat": 4,
 "nbformat_minor": 2,
 "cells": [
  {
   "source": [
    "## 6.4 Multiple Input and Multiple Output Channels"
   ],
   "cell_type": "markdown",
   "metadata": {}
  },
  {
   "cell_type": "code",
   "execution_count": 1,
   "metadata": {},
   "outputs": [],
   "source": [
    "from d2l import mxnet as d2l\n",
    "from mxnet import np,npx\n",
    "npx.set_np()"
   ]
  },
  {
   "source": [
    "### 6.4.1 Multiple Input Single Output Channels"
   ],
   "cell_type": "markdown",
   "metadata": {}
  },
  {
   "cell_type": "code",
   "execution_count": 2,
   "metadata": {},
   "outputs": [],
   "source": [
    "def corr2d_multi_in(X,K):\n",
    "    return sum(d2l.corr2d(x,k) for x,k in zip(X,K))"
   ]
  },
  {
   "cell_type": "code",
   "execution_count": 6,
   "metadata": {},
   "outputs": [
    {
     "output_type": "stream",
     "name": "stdout",
     "text": [
      "[[ 56.  72.]\n [104. 120.]]\n[[ 56.  72.]\n [104. 120.]]\n"
     ]
    }
   ],
   "source": [
    "X=np.array([\n",
    "    [[0.0,1.0,2.0],[3.0,4.0,5.0],[6.0,7.0,8.0]],\n",
    "    [[1.0,2.0,3.0],[4.0,5.0,6.0],[7.0,8.0,9.0]]\n",
    "    ])\n",
    "K=np.array([\n",
    "    [[0.0,1.0],[2.0,3.0]],\n",
    "    [[1.0,2.0],[3.0,4.0]]\n",
    "    ])\n",
    "print(corr2d_multi_in(X,K))\n",
    "\n",
    "X=np.stack([np.arange(9).reshape(3,3),np.arange(1,10).reshape(3,3)],0)\n",
    "K=np.stack([np.arange(4).reshape(2,2),np.arange(1,5).reshape(2,2)],0)\n",
    "print(corr2d_multi_in(X,K))"
   ]
  },
  {
   "source": [
    "### 6.4.2 Multiple Input Multiple Output Channels"
   ],
   "cell_type": "markdown",
   "metadata": {}
  },
  {
   "cell_type": "code",
   "execution_count": 7,
   "metadata": {},
   "outputs": [],
   "source": [
    "def corr2d_multi_in_out(X,K):\n",
    "    return np.stack([corr2d_multi_in(X,k) for k in K],0)"
   ]
  },
  {
   "cell_type": "code",
   "execution_count": 13,
   "metadata": {},
   "outputs": [
    {
     "output_type": "execute_result",
     "data": {
      "text/plain": [
       "(3, 2, 2, 2)"
      ]
     },
     "metadata": {},
     "execution_count": 13
    }
   ],
   "source": [
    "K2=np.stack((K,K+1,K+2),0)\n",
    "K2.shape"
   ]
  },
  {
   "cell_type": "code",
   "execution_count": 14,
   "metadata": {},
   "outputs": [
    {
     "output_type": "execute_result",
     "data": {
      "text/plain": [
       "array([[[ 56.,  72.],\n",
       "        [104., 120.]],\n",
       "\n",
       "       [[ 76., 100.],\n",
       "        [148., 172.]],\n",
       "\n",
       "       [[ 96., 128.],\n",
       "        [192., 224.]]])"
      ]
     },
     "metadata": {},
     "execution_count": 14
    }
   ],
   "source": [
    "corr2d_multi_in_out(X,K2)"
   ]
  },
  {
   "cell_type": "code",
   "execution_count": 15,
   "metadata": {},
   "outputs": [],
   "source": [
    "### 6.4.3 1x1 Convolutional Layer\n",
    "def corr2d_multi_in_out_1x1(X,K):\n",
    "    c_i,h,w=X.shape\n",
    "    c_o=K.shape[0]\n",
    "    X=X.reshape((c_i,h*w))\n",
    "    K=K.reshape((c_o,c_i))\n",
    "    Y=np.dot(K,X)\n",
    "    return Y.reshape((c_o,h,w))"
   ]
  },
  {
   "cell_type": "code",
   "execution_count": 19,
   "metadata": {},
   "outputs": [
    {
     "output_type": "execute_result",
     "data": {
      "text/plain": [
       "((2, 3, 3), (2, 3, 3))"
      ]
     },
     "metadata": {},
     "execution_count": 19
    }
   ],
   "source": [
    "X=np.random.normal(0,1,(3,3,3))\n",
    "K=np.random.normal(0,1,(2,3,1,1))\n",
    "Y1=corr2d_multi_in_out_1x1(X,K)\n",
    "Y2=corr2d_multi_in_out(X,K)\n",
    "assert float(d2l.reduce_sum(np.abs(Y1-Y2)))<1e-6\n",
    "Y1.shape,Y2.shape"
   ]
  }
 ]
}