{
 "metadata": {
  "language_info": {
   "codemirror_mode": {
    "name": "ipython",
    "version": 3
   },
   "file_extension": ".py",
   "mimetype": "text/x-python",
   "name": "python",
   "nbconvert_exporter": "python",
   "pygments_lexer": "ipython3",
   "version": 3
  },
  "orig_nbformat": 2
 },
 "nbformat": 4,
 "nbformat_minor": 2,
 "cells": [
  {
   "source": [
    "## 4.7 Forward Propagation, Backward Propagation, and Computational Graphs\n",
    "### 4.7.1 Forward Propagation\n",
    "$$\n",
    "\\begin{align*}\n",
    "\\mathbf{z}  &=\\mathbf{W}^{(1)}\\mathbf{x}\\\\\n",
    "\\mathbf{h}  &=\\phi(\\mathbf{z})\\\\\n",
    "\\mathbf{o}  &=\\mathbf{W}^{(2)}\\mathbf{h}\\\\\n",
    "\\end{align*}\n",
    "$$\n",
    "\n",
    "Loss Function: $L=l(\\mathbf{o},y)$\n",
    "\n",
    "Regularization Term: $s=\\frac{\\lambda}2(||\\mathbf{W}^{(1)}|||^2_F+||\\mathbf{W}^{(2)}||^2_F)\n",
    "\n",
    "### 4.7.2 Computational Graph of Forward Propagation\n",
    "Fig. 4.7.1\n",
    "\n",
    "### 4.7.3 Backward Propagation\n",
    "$$\n",
    "\\begin{align*}\n",
    "\\frac{\\partial Z}{\\partial X}   &=\\text{prod}(\\frac{\\partial Z}{\\partial Y},\\frac{\\partial Y}{\\partial X})\\\\\n",
    "\\frac{\\partial J}{\\partial L}   &=1\\\\\n",
    "\\frac{\\partial J}{\\partial s}   &=1\\\\\n",
    "\\frac{\\partial J}{\\partial\\mathbf{o}}   &=\\text{prod}(\\frac{\\partial J}{\\partial L},\\frac{\\partial L}{\\partial\\mathbf{o}})=\\frac{\\partial L}{\\partial\\mathbf{o}}\\in\\mathcal{R}^q\\\\\n",
    "\\frac{\\partial s}{\\partial\\mathbf{W}^{(1)}} &=\\lambda\\mathbf{W}^{(1)}\\\\\n",
    "\\frac{\\partial s}{\\partial\\mathbf{W}^{(2)}} &=\\lambda\\mathbf{W}^{(2)}\\\\\n",
    "\\frac{\\partial J}{\\partial\\mathbf{W}^{(2)}} &=\n",
    "    \\text{prod}(\\frac{\\partial J}{\\partial\\mathbf{o}},\\frac{\\partial\\mathbf{o}}{\\partial\\mathbf{W}^{(2)}})\n",
    "    +\\text{prod}(\\frac{\\partial J}{\\partial s},\\frac{\\partial s}{\\partial\\mathbf{W}^{(2)}})\n",
    "    =\\frac{\\partial J}{\\partial\\mathbf{o}}\\mathbf{h}^T+\\lambda\\mathbf{W}^{(2)}\\\\\n",
    "\\frac{\\partial J}{\\partial\\mathbf{h}}   &=\\text{prod}(\\frac{\\partial J}{\\partial\\mathbf{o}},\\frac{\\partial\\mathbf{o}}{\\partial\\mathbf{h}})={\\mathbf{W}^{(2)}}^T\\frac{\\partial J}{\\partial\\mathbf{o}}\\\\\n",
    "\\frac{\\partial J}{\\partial\\mathbf{z}}=\\text{prod}(\\frac{\\partial J}{\\partial\\mathbf{h}},\\frac{\\partial\\mathbf{h}}{\\partial\\mathbf{z}})=\\frac{\\partial J}{\\partial\\mathbf{h}}\\odot\\phi'(\\mathbf{z})\\\\\n",
    "\\frac{\\partial J}{\\partial\\mathbf{W}^{(1)}} &=\n",
    "    \\text{prod}(\\frac{\\partial J}{\\partial\\mathbf{z}},\\frac{\\partial\\mathbf{z}}{\\partial\\mathbf{W}^{(1)}})\n",
    "    +\\text{prod}(\\frac{\\partial J}{\\partial s},\\frac{\\partial s}{\\partial\\mathbf{W}^{(1)}})\n",
    "    =\\frac{\\partial J}{\\partial\\mathbf{z}}\\mathbf{x}^T+\\lambda\\mathbf{W}^{(1)} \n",
    "\\end{align*}\n",
    "$$\n",
    "\n",
    "### 4.7.4 Training Neural Networks"
   ],
   "cell_type": "markdown",
   "metadata": {}
  }
 ]
}