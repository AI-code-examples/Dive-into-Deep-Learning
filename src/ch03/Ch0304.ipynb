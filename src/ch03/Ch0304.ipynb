{
 "metadata": {
  "language_info": {
   "codemirror_mode": {
    "name": "ipython",
    "version": 3
   },
   "file_extension": ".py",
   "mimetype": "text/x-python",
   "name": "python",
   "nbconvert_exporter": "python",
   "pygments_lexer": "ipython3",
   "version": 3
  },
  "orig_nbformat": 2
 },
 "nbformat": 4,
 "nbformat_minor": 2,
 "cells": [
  {
   "source": [
    "## 3.4 Softmax Regression\n",
    "### 3.4.1 Classification Problem\n",
    "### 3.4.2 Network Architecture\n",
    "Fig. 3.4.1: Softmax Regression is a single-layer neural network.\n",
    "### 3.4.3 Softmax Operation\n",
    "$$\n",
    "\\begin{align*}\n",
    "\\mathbf{O}\n",
    "    &=\\mathbf{XW}+\\mathbf{b}\\\\\n",
    "\\hat{\\mathbf{Y}}\n",
    "    &=\\text{softmax}(\\mathbf{O})\n",
    "\\end{align*}\n",
    "$$\n",
    "### 3.4.5 Loss Function\n",
    "#### Log-Likelihood\n",
    "#### Softmax and Derivatives\n",
    "#### Cross-Entropy Loss\n",
    "### 3.4.6 Information Theory Basics\n",
    "### 3.4.7 Model Prediction and Evaluation"
   ],
   "cell_type": "markdown",
   "metadata": {}
  }
 ]
}