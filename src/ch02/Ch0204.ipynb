{
 "metadata": {
  "language_info": {
   "codemirror_mode": {
    "name": "ipython",
    "version": 3
   },
   "file_extension": ".py",
   "mimetype": "text/x-python",
   "name": "python",
   "nbconvert_exporter": "python",
   "pygments_lexer": "ipython3",
   "version": "3.8.8-final"
  },
  "orig_nbformat": 2,
  "kernelspec": {
   "name": "python3",
   "display_name": "Python 3.8.8 64-bit ('mxnetcpu': conda)",
   "metadata": {
    "interpreter": {
     "hash": "31501654e2bf4fe29042e125e32fccdc90463327bf0ec9fd2043d87fff9a6008"
    }
   }
  }
 },
 "nbformat": 4,
 "nbformat_minor": 2,
 "cells": [
  {
   "source": [
    "## 2.4 Calculus(积分)"
   ],
   "cell_type": "markdown",
   "metadata": {}
  },
  {
   "source": [
    "### 2.4.1 Derivatives(导数) and Differentiation(微分)\n",
    "\n",
    "$$\n",
    "f'(x)=\\lim_{h\\rightarrow 0}\\frac{f(x+h)-f(x)}{h}=y'=\\frac{dy}{dx}=\\frac{df}{dx}=\\frac{d}{dx}f(x)\n",
    "$$"
   ],
   "cell_type": "markdown",
   "metadata": {}
  },
  {
   "cell_type": "code",
   "execution_count": 1,
   "metadata": {},
   "outputs": [],
   "source": [
    "%matplotlib inline\n",
    "from d2l import mxnet as d2l\n",
    "from IPython import display\n",
    "from mxnet import np,npx\n",
    "npx.set_np()\n",
    "\n",
    "def f(x):\n",
    "    # $f(x)=3x^2-4x$\n",
    "    return 3*x**2-4*x"
   ]
  },
  {
   "cell_type": "code",
   "execution_count": 2,
   "metadata": {},
   "outputs": [
    {
     "output_type": "stream",
     "name": "stdout",
     "text": [
      "h=0.10000, numerical limit=2.30000\nh=0.01000, numerical limit=2.03000\nh=0.00100, numerical limit=2.00300\nh=0.00010, numerical limit=2.00030\nh=0.00001, numerical limit=2.00003\n"
     ]
    }
   ],
   "source": [
    "def numerical_lim(f,x,h):\n",
    "    return (f(x+h)-f(x))/h\n",
    "\n",
    "h=0.1\n",
    "for i in range(5):\n",
    "    print(f'h={h:.5f}, numerical limit={numerical_lim(f,1,h):.5f}')\n",
    "    h *=0.1"
   ]
  },
  {
   "cell_type": "code",
   "execution_count": 3,
   "metadata": {},
   "outputs": [
    {
     "output_type": "display_data",
     "data": {
      "text/plain": "<Figure size 252x180 with 1 Axes>",
      "image/svg+xml": "<?xml version=\"1.0\" encoding=\"utf-8\" standalone=\"no\"?>\r\n<!DOCTYPE svg PUBLIC \"-//W3C//DTD SVG 1.1//EN\"\r\n  \"http://www.w3.org/Graphics/SVG/1.1/DTD/svg11.dtd\">\r\n<!-- Created with matplotlib (https://matplotlib.org/) -->\r\n<svg height=\"182.259375pt\" version=\"1.1\" viewBox=\"0 0 243.084822 182.259375\" width=\"243.084822pt\" xmlns=\"http://www.w3.org/2000/svg\" xmlns:xlink=\"http://www.w3.org/1999/xlink\">\r\n <metadata>\r\n  <rdf:RDF xmlns:cc=\"http://creativecommons.org/ns#\" xmlns:dc=\"http://purl.org/dc/elements/1.1/\" xmlns:rdf=\"http://www.w3.org/1999/02/22-rdf-syntax-ns#\">\r\n   <cc:Work>\r\n    <dc:type rdf:resource=\"http://purl.org/dc/dcmitype/StillImage\"/>\r\n    <dc:date>2021-03-03T18:02:40.506724</dc:date>\r\n    <dc:format>image/svg+xml</dc:format>\r\n    <dc:creator>\r\n     <cc:Agent>\r\n      <dc:title>Matplotlib v3.3.4, https://matplotlib.org/</dc:title>\r\n     </cc:Agent>\r\n    </dc:creator>\r\n   </cc:Work>\r\n  </rdf:RDF>\r\n </metadata>\r\n <defs>\r\n  <style type=\"text/css\">*{stroke-linecap:butt;stroke-linejoin:round;}</style>\r\n </defs>\r\n <g id=\"figure_1\">\r\n  <g id=\"patch_1\">\r\n   <path d=\"M 0 182.259375 \r\nL 243.084822 182.259375 \r\nL 243.084822 0 \r\nL 0 0 \r\nz\r\n\" style=\"fill:none;\"/>\r\n  </g>\r\n  <g id=\"axes_1\">\r\n   <g id=\"patch_2\">\r\n    <path d=\"M 40.407812 143.1 \r\nL 235.707812 143.1 \r\nL 235.707812 7.2 \r\nL 40.407812 7.2 \r\nz\r\n\" style=\"fill:#ffffff;\"/>\r\n   </g>\r\n   <g id=\"matplotlib.axis_1\">\r\n    <g id=\"xtick_1\">\r\n     <g id=\"line2d_1\">\r\n      <path clip-path=\"url(#p7943aa0fbc)\" d=\"M 49.285085 143.1 \r\nL 49.285085 7.2 \r\n\" style=\"fill:none;stroke:#b0b0b0;stroke-linecap:square;stroke-width:0.8;\"/>\r\n     </g>\r\n     <g id=\"line2d_2\">\r\n      <defs>\r\n       <path d=\"M 0 0 \r\nL 0 3.5 \r\n\" id=\"mb4f016f8f3\" style=\"stroke:#000000;stroke-width:0.8;\"/>\r\n      </defs>\r\n      <g>\r\n       <use style=\"stroke:#000000;stroke-width:0.8;\" x=\"49.285085\" xlink:href=\"#mb4f016f8f3\" y=\"143.1\"/>\r\n      </g>\r\n     </g>\r\n     <g id=\"text_1\">\r\n      <!-- 0 -->\r\n      <g transform=\"translate(46.353054 158.09375)scale(0.1 -0.1)\">\r\n       <defs>\r\n        <path d=\"M 4.4375 36.328125 \r\nQ 4.4375 56.34375 11.078125 66.625 \r\nQ 17.71875 76.90625 30.328125 76.90625 \r\nQ 54.34375 76.90625 54.34375 38.140625 \r\nQ 54.34375 19 47.578125 8.859375 \r\nQ 40.828125 -1.265625 28.609375 -1.265625 \r\nQ 17.09375 -1.265625 10.765625 8.34375 \r\nQ 4.4375 17.96875 4.4375 36.328125 \r\nz\r\nM 14.203125 36.765625 \r\nQ 14.203125 6.640625 29.5 6.640625 \r\nQ 44.53125 6.640625 44.53125 37.25 \r\nQ 44.53125 68.953125 29.78125 68.953125 \r\nQ 14.203125 68.953125 14.203125 36.765625 \r\nz\r\n\" id=\"MicrosoftYaHei-48\"/>\r\n       </defs>\r\n       <use xlink:href=\"#MicrosoftYaHei-48\"/>\r\n      </g>\r\n     </g>\r\n    </g>\r\n    <g id=\"xtick_2\">\r\n     <g id=\"line2d_3\">\r\n      <path clip-path=\"url(#p7943aa0fbc)\" d=\"M 110.507654 143.1 \r\nL 110.507654 7.2 \r\n\" style=\"fill:none;stroke:#b0b0b0;stroke-linecap:square;stroke-width:0.8;\"/>\r\n     </g>\r\n     <g id=\"line2d_4\">\r\n      <g>\r\n       <use style=\"stroke:#000000;stroke-width:0.8;\" x=\"110.507654\" xlink:href=\"#mb4f016f8f3\" y=\"143.1\"/>\r\n      </g>\r\n     </g>\r\n     <g id=\"text_2\">\r\n      <!-- 1 -->\r\n      <g transform=\"translate(107.575622 158.09375)scale(0.1 -0.1)\">\r\n       <defs>\r\n        <path d=\"M 27.828125 0 \r\nL 27.828125 64.703125 \r\nQ 25.59375 62.453125 20.234375 59.671875 \r\nQ 14.890625 56.890625 10.359375 55.765625 \r\nL 10.359375 65.140625 \r\nQ 16.359375 66.796875 23.1875 70.4375 \r\nQ 30.03125 74.078125 33.6875 77.296875 \r\nL 37.3125 77.296875 \r\nL 37.3125 0 \r\nz\r\n\" id=\"MicrosoftYaHei-49\"/>\r\n       </defs>\r\n       <use xlink:href=\"#MicrosoftYaHei-49\"/>\r\n      </g>\r\n     </g>\r\n    </g>\r\n    <g id=\"xtick_3\">\r\n     <g id=\"line2d_5\">\r\n      <path clip-path=\"url(#p7943aa0fbc)\" d=\"M 171.730222 143.1 \r\nL 171.730222 7.2 \r\n\" style=\"fill:none;stroke:#b0b0b0;stroke-linecap:square;stroke-width:0.8;\"/>\r\n     </g>\r\n     <g id=\"line2d_6\">\r\n      <g>\r\n       <use style=\"stroke:#000000;stroke-width:0.8;\" x=\"171.730222\" xlink:href=\"#mb4f016f8f3\" y=\"143.1\"/>\r\n      </g>\r\n     </g>\r\n     <g id=\"text_3\">\r\n      <!-- 2 -->\r\n      <g transform=\"translate(168.798191 158.09375)scale(0.1 -0.1)\">\r\n       <defs>\r\n        <path d=\"M 41.65625 55.8125 \r\nQ 41.65625 61.921875 37.796875 65.40625 \r\nQ 33.9375 68.890625 27.296875 68.890625 \r\nQ 22.609375 68.890625 17.8125 66.5 \r\nQ 13.03125 64.109375 8.890625 59.671875 \r\nL 8.890625 68.953125 \r\nQ 12.59375 72.796875 17.296875 74.84375 \r\nQ 22.015625 76.90625 28.375 76.90625 \r\nQ 38.625 76.90625 44.875 71.40625 \r\nQ 51.125 65.921875 51.125 56.546875 \r\nQ 51.125 48.1875 47.28125 42.078125 \r\nQ 43.453125 35.984375 34.1875 29.59375 \r\nQ 24.703125 23.046875 21.5 20.21875 \r\nQ 18.3125 17.390625 17.03125 14.796875 \r\nQ 15.765625 12.203125 15.765625 8.5 \r\nL 53.375 8.5 \r\nL 53.375 0 \r\nL 5.8125 0 \r\nL 5.8125 3.765625 \r\nQ 5.8125 10.296875 7.59375 14.859375 \r\nQ 9.375 19.4375 13.46875 23.75 \r\nQ 17.578125 28.078125 26.265625 34.125 \r\nQ 35.15625 40.375 38.40625 45.09375 \r\nQ 41.65625 49.8125 41.65625 55.8125 \r\nz\r\n\" id=\"MicrosoftYaHei-50\"/>\r\n       </defs>\r\n       <use xlink:href=\"#MicrosoftYaHei-50\"/>\r\n      </g>\r\n     </g>\r\n    </g>\r\n    <g id=\"xtick_4\">\r\n     <g id=\"line2d_7\">\r\n      <path clip-path=\"url(#p7943aa0fbc)\" d=\"M 232.952791 143.1 \r\nL 232.952791 7.2 \r\n\" style=\"fill:none;stroke:#b0b0b0;stroke-linecap:square;stroke-width:0.8;\"/>\r\n     </g>\r\n     <g id=\"line2d_8\">\r\n      <g>\r\n       <use style=\"stroke:#000000;stroke-width:0.8;\" x=\"232.952791\" xlink:href=\"#mb4f016f8f3\" y=\"143.1\"/>\r\n      </g>\r\n     </g>\r\n     <g id=\"text_4\">\r\n      <!-- 3 -->\r\n      <g transform=\"translate(230.02076 158.09375)scale(0.1 -0.1)\">\r\n       <defs>\r\n        <path d=\"M 6.984375 12.640625 \r\nQ 14.75 6.640625 24.515625 6.640625 \r\nQ 32.328125 6.640625 36.890625 10.46875 \r\nQ 41.453125 14.3125 41.453125 20.75 \r\nQ 41.453125 35.109375 20.90625 35.109375 \r\nL 14.59375 35.109375 \r\nL 14.59375 43.015625 \r\nL 20.609375 43.015625 \r\nQ 38.8125 43.015625 38.8125 56.5 \r\nQ 38.8125 68.953125 24.90625 68.953125 \r\nQ 16.9375 68.953125 9.90625 63.578125 \r\nL 9.90625 72.609375 \r\nQ 17.328125 76.90625 27.25 76.90625 \r\nQ 36.921875 76.90625 42.78125 71.84375 \r\nQ 48.640625 66.796875 48.640625 58.734375 \r\nQ 48.640625 43.890625 33.5 39.65625 \r\nL 33.5 39.453125 \r\nQ 41.703125 38.578125 46.453125 33.671875 \r\nQ 51.21875 28.765625 51.21875 21.4375 \r\nQ 51.21875 11.234375 43.875 4.984375 \r\nQ 36.53125 -1.265625 24.3125 -1.265625 \r\nQ 13.578125 -1.265625 6.984375 2.734375 \r\nz\r\n\" id=\"MicrosoftYaHei-51\"/>\r\n       </defs>\r\n       <use xlink:href=\"#MicrosoftYaHei-51\"/>\r\n      </g>\r\n     </g>\r\n    </g>\r\n    <g id=\"text_5\">\r\n     <!-- x -->\r\n     <g transform=\"translate(135.523437 172.573438)scale(0.1 -0.1)\">\r\n      <defs>\r\n       <path d=\"M 49.421875 54 \r\nL 31.34375 26.8125 \r\nL 49.171875 0 \r\nL 38.03125 0 \r\nL 27.734375 17.1875 \r\nQ 26.90625 18.5625 25.390625 21.390625 \r\nL 25.203125 21.390625 \r\nQ 25.140625 21.09375 22.75 17.1875 \r\nL 12.25 0 \r\nL 1.265625 0 \r\nL 19.625 26.515625 \r\nL 2.09375 54 \r\nL 13.234375 54 \r\nL 23.34375 35.9375 \r\nQ 24.265625 34.28125 25.59375 31.640625 \r\nL 25.78125 31.640625 \r\nL 38.921875 54 \r\nz\r\n\" id=\"MicrosoftYaHei-120\"/>\r\n      </defs>\r\n      <use xlink:href=\"#MicrosoftYaHei-120\"/>\r\n     </g>\r\n    </g>\r\n   </g>\r\n   <g id=\"matplotlib.axis_2\">\r\n    <g id=\"ytick_1\">\r\n     <g id=\"line2d_9\">\r\n      <path clip-path=\"url(#p7943aa0fbc)\" d=\"M 40.407812 114.635518 \r\nL 235.707812 114.635518 \r\n\" style=\"fill:none;stroke:#b0b0b0;stroke-linecap:square;stroke-width:0.8;\"/>\r\n     </g>\r\n     <g id=\"line2d_10\">\r\n      <defs>\r\n       <path d=\"M 0 0 \r\nL -3.5 0 \r\n\" id=\"mb4f5a4592b\" style=\"stroke:#000000;stroke-width:0.8;\"/>\r\n      </defs>\r\n      <g>\r\n       <use style=\"stroke:#000000;stroke-width:0.8;\" x=\"40.407812\" xlink:href=\"#mb4f5a4592b\" y=\"114.635518\"/>\r\n      </g>\r\n     </g>\r\n     <g id=\"text_6\">\r\n      <!-- 0 -->\r\n      <g transform=\"translate(27.54375 118.632393)scale(0.1 -0.1)\">\r\n       <use xlink:href=\"#MicrosoftYaHei-48\"/>\r\n      </g>\r\n     </g>\r\n    </g>\r\n    <g id=\"ytick_2\">\r\n     <g id=\"line2d_11\">\r\n      <path clip-path=\"url(#p7943aa0fbc)\" d=\"M 40.407812 77.490168 \r\nL 235.707812 77.490168 \r\n\" style=\"fill:none;stroke:#b0b0b0;stroke-linecap:square;stroke-width:0.8;\"/>\r\n     </g>\r\n     <g id=\"line2d_12\">\r\n      <g>\r\n       <use style=\"stroke:#000000;stroke-width:0.8;\" x=\"40.407812\" xlink:href=\"#mb4f5a4592b\" y=\"77.490168\"/>\r\n      </g>\r\n     </g>\r\n     <g id=\"text_7\">\r\n      <!-- 5 -->\r\n      <g transform=\"translate(27.54375 81.487043)scale(0.1 -0.1)\">\r\n       <defs>\r\n        <path d=\"M 51.46875 23.34375 \r\nQ 51.46875 12.25 44.109375 5.46875 \r\nQ 36.765625 -1.3125 24.359375 -1.3125 \r\nQ 13.71875 -1.3125 8.5 1.859375 \r\nL 8.5 11.625 \r\nQ 16.15625 6.640625 24.125 6.640625 \r\nQ 32.03125 6.640625 36.890625 11 \r\nQ 41.75 15.375 41.75 22.609375 \r\nQ 41.75 29.828125 36.6875 33.859375 \r\nQ 31.640625 37.890625 22.40625 37.890625 \r\nQ 15.28125 37.890625 9.578125 37.25 \r\nL 12.359375 75.640625 \r\nL 47.703125 75.640625 \r\nL 47.703125 67.234375 \r\nL 20.40625 67.234375 \r\nL 18.84375 45.796875 \r\nL 25.734375 46.09375 \r\nQ 37.75 46.09375 44.609375 40.109375 \r\nQ 51.46875 34.125 51.46875 23.34375 \r\nz\r\n\" id=\"MicrosoftYaHei-53\"/>\r\n       </defs>\r\n       <use xlink:href=\"#MicrosoftYaHei-53\"/>\r\n      </g>\r\n     </g>\r\n    </g>\r\n    <g id=\"ytick_3\">\r\n     <g id=\"line2d_13\">\r\n      <path clip-path=\"url(#p7943aa0fbc)\" d=\"M 40.407812 40.344819 \r\nL 235.707812 40.344819 \r\n\" style=\"fill:none;stroke:#b0b0b0;stroke-linecap:square;stroke-width:0.8;\"/>\r\n     </g>\r\n     <g id=\"line2d_14\">\r\n      <g>\r\n       <use style=\"stroke:#000000;stroke-width:0.8;\" x=\"40.407812\" xlink:href=\"#mb4f5a4592b\" y=\"40.344819\"/>\r\n      </g>\r\n     </g>\r\n     <g id=\"text_8\">\r\n      <!-- 10 -->\r\n      <g transform=\"translate(21.679688 44.341694)scale(0.1 -0.1)\">\r\n       <use xlink:href=\"#MicrosoftYaHei-49\"/>\r\n       <use x=\"58.642578\" xlink:href=\"#MicrosoftYaHei-48\"/>\r\n      </g>\r\n     </g>\r\n    </g>\r\n    <g id=\"text_9\">\r\n     <!-- f(x) -->\r\n     <g transform=\"translate(15.19375 82.758594)rotate(-90)scale(0.1 -0.1)\">\r\n      <defs>\r\n       <path d=\"M 36.234375 71.78125 \r\nQ 33.546875 73.1875 30.421875 73.1875 \r\nQ 21.4375 73.1875 21.4375 62.0625 \r\nL 21.4375 54 \r\nL 34.078125 54 \r\nL 34.078125 46.09375 \r\nL 21.4375 46.09375 \r\nL 21.4375 0 \r\nL 11.96875 0 \r\nL 11.96875 46.09375 \r\nL 2.734375 46.09375 \r\nL 2.734375 54 \r\nL 11.96875 54 \r\nL 11.96875 62.5 \r\nQ 11.96875 71.1875 16.96875 76.140625 \r\nQ 21.96875 81.109375 29.6875 81.109375 \r\nQ 33.796875 81.109375 36.234375 80.171875 \r\nz\r\n\" id=\"MicrosoftYaHei-102\"/>\r\n       <path d=\"M 23.921875 -17.1875 \r\nQ 7.46875 1.5625 7.46875 28.859375 \r\nQ 7.46875 56.15625 23.921875 75.640625 \r\nL 32.375 75.640625 \r\nQ 15.875 55.375 15.875 28.953125 \r\nQ 15.875 2.59375 32.28125 -17.1875 \r\nz\r\n\" id=\"MicrosoftYaHei-40\"/>\r\n       <path d=\"M 1.21875 -17.1875 \r\nQ 17.671875 2.546875 17.671875 28.953125 \r\nQ 17.671875 55.421875 1.125 75.640625 \r\nL 9.625 75.640625 \r\nQ 26.125 56.296875 26.125 28.859375 \r\nQ 26.125 1.421875 9.625 -17.1875 \r\nz\r\n\" id=\"MicrosoftYaHei-41\"/>\r\n      </defs>\r\n      <use xlink:href=\"#MicrosoftYaHei-102\"/>\r\n      <use x=\"34.667969\" xlink:href=\"#MicrosoftYaHei-40\"/>\r\n      <use x=\"68.066406\" xlink:href=\"#MicrosoftYaHei-120\"/>\r\n      <use x=\"118.75\" xlink:href=\"#MicrosoftYaHei-41\"/>\r\n     </g>\r\n    </g>\r\n   </g>\r\n   <g id=\"line2d_15\">\r\n    <path clip-path=\"url(#p7943aa0fbc)\" d=\"M 49.285085 114.635518 \r\nL 55.407342 117.384273 \r\nL 61.529599 119.687285 \r\nL 67.651857 121.544553 \r\nL 73.774113 122.956076 \r\nL 79.896369 123.921855 \r\nL 86.018628 124.44189 \r\nL 92.140882 124.516181 \r\nL 98.263141 124.144727 \r\nL 104.385399 123.327528 \r\nL 110.507654 122.064587 \r\nL 116.629912 120.355901 \r\nL 122.75217 118.201471 \r\nL 128.874429 115.601294 \r\nL 134.99668 112.55538 \r\nL 141.118938 109.063715 \r\nL 147.241196 105.126307 \r\nL 153.363455 100.743158 \r\nL 159.485713 95.914254 \r\nL 165.607964 90.639622 \r\nL 171.730222 84.919238 \r\nL 177.852488 78.753096 \r\nL 183.974739 72.141236 \r\nL 190.09699 65.083621 \r\nL 196.219256 57.580258 \r\nL 202.341507 49.631156 \r\nL 208.463772 41.236292 \r\nL 214.586023 32.395709 \r\nL 220.708274 23.109386 \r\nL 226.83054 13.377273 \r\n\" style=\"fill:none;stroke:#1f77b4;stroke-linecap:square;stroke-width:2;\"/>\r\n   </g>\r\n   <g id=\"line2d_16\">\r\n    <path clip-path=\"url(#p7943aa0fbc)\" d=\"M 49.285085 136.922727 \r\nL 55.407342 135.436913 \r\nL 61.529599 133.951099 \r\nL 67.651857 132.465286 \r\nL 73.774113 130.979472 \r\nL 79.896369 129.493657 \r\nL 86.018628 128.007843 \r\nL 92.140882 126.52203 \r\nL 98.263141 125.036215 \r\nL 104.385399 123.550401 \r\nL 110.507654 122.064587 \r\nL 116.629912 120.578773 \r\nL 122.75217 119.092959 \r\nL 128.874429 117.607144 \r\nL 134.99668 116.121332 \r\nL 141.118938 114.635518 \r\nL 147.241196 113.149703 \r\nL 153.363455 111.663889 \r\nL 159.485713 110.178075 \r\nL 165.607964 108.692262 \r\nL 171.730222 107.206448 \r\nL 177.852488 105.720632 \r\nL 183.974739 104.234819 \r\nL 190.09699 102.749006 \r\nL 196.219256 101.26319 \r\nL 202.341507 99.777378 \r\nL 208.463772 98.291562 \r\nL 214.586023 96.805749 \r\nL 220.708274 95.319937 \r\nL 226.83054 93.83412 \r\n\" style=\"fill:none;stroke:#bf00bf;stroke-dasharray:7.4,3.2;stroke-dashoffset:0;stroke-width:2;\"/>\r\n   </g>\r\n   <g id=\"patch_3\">\r\n    <path d=\"M 40.407812 143.1 \r\nL 40.407812 7.2 \r\n\" style=\"fill:none;stroke:#000000;stroke-linecap:square;stroke-linejoin:miter;stroke-width:0.8;\"/>\r\n   </g>\r\n   <g id=\"patch_4\">\r\n    <path d=\"M 235.707812 143.1 \r\nL 235.707812 7.2 \r\n\" style=\"fill:none;stroke:#000000;stroke-linecap:square;stroke-linejoin:miter;stroke-width:0.8;\"/>\r\n   </g>\r\n   <g id=\"patch_5\">\r\n    <path d=\"M 40.407812 143.1 \r\nL 235.707812 143.1 \r\n\" style=\"fill:none;stroke:#000000;stroke-linecap:square;stroke-linejoin:miter;stroke-width:0.8;\"/>\r\n   </g>\r\n   <g id=\"patch_6\">\r\n    <path d=\"M 40.407812 7.2 \r\nL 235.707812 7.2 \r\n\" style=\"fill:none;stroke:#000000;stroke-linecap:square;stroke-linejoin:miter;stroke-width:0.8;\"/>\r\n   </g>\r\n   <g id=\"legend_1\">\r\n    <g id=\"patch_7\">\r\n     <path d=\"M 47.407812 46.159375 \r\nL 127.398438 46.159375 \r\nQ 129.398438 46.159375 129.398438 44.159375 \r\nL 129.398438 14.2 \r\nQ 129.398438 12.2 127.398438 12.2 \r\nL 47.407812 12.2 \r\nQ 45.407812 12.2 45.407812 14.2 \r\nL 45.407812 44.159375 \r\nQ 45.407812 46.159375 47.407812 46.159375 \r\nz\r\n\" style=\"fill:#ffffff;opacity:0.8;stroke:#cccccc;stroke-linejoin:miter;\"/>\r\n    </g>\r\n    <g id=\"line2d_17\">\r\n     <path d=\"M 49.407812 20.69375 \r\nL 69.407813 20.69375 \r\n\" style=\"fill:none;stroke:#1f77b4;stroke-linecap:square;stroke-width:2;\"/>\r\n    </g>\r\n    <g id=\"line2d_18\"/>\r\n    <g id=\"text_10\">\r\n     <!-- f(x) -->\r\n     <g transform=\"translate(77.407813 24.19375)scale(0.1 -0.1)\">\r\n      <use xlink:href=\"#MicrosoftYaHei-102\"/>\r\n      <use x=\"34.667969\" xlink:href=\"#MicrosoftYaHei-40\"/>\r\n      <use x=\"68.066406\" xlink:href=\"#MicrosoftYaHei-120\"/>\r\n      <use x=\"118.75\" xlink:href=\"#MicrosoftYaHei-41\"/>\r\n     </g>\r\n    </g>\r\n    <g id=\"line2d_19\">\r\n     <path d=\"M 49.407812 36.173438 \r\nL 69.407813 36.173438 \r\n\" style=\"fill:none;stroke:#bf00bf;stroke-dasharray:7.4,3.2;stroke-dashoffset:0;stroke-width:2;\"/>\r\n    </g>\r\n    <g id=\"line2d_20\"/>\r\n    <g id=\"text_11\">\r\n     <!-- 切线 (x=1) -->\r\n     <g transform=\"translate(77.407813 39.673438)scale(0.1 -0.1)\">\r\n      <defs>\r\n       <path d=\"M 36.8125 76.515625 \r\nL 93.453125 76.515625 \r\nQ 91.796875 23.875 90.71875 6 \r\nQ 89.546875 -10.296875 75.484375 -10.203125 \r\nQ 67.578125 -10.203125 59.078125 -9.71875 \r\nQ 58.5 -5.03125 57.421875 -0.53125 \r\nQ 66.109375 -2 74.125 -2 \r\nQ 82.03125 -2 82.625 7.171875 \r\nQ 84.28125 26.125 85.15625 69.1875 \r\nL 62.0625 69.1875 \r\nQ 61.328125 49.125 60.453125 35.890625 \r\nQ 58.796875 3.171875 34.765625 -13.421875 \r\nQ 32.328125 -10.59375 28.609375 -7.078125 \r\nQ 51.5625 7.765625 52.828125 36.765625 \r\nQ 53.8125 49.859375 54.203125 69.1875 \r\nL 36.8125 69.1875 \r\nz\r\nM 42.09375 26.90625 \r\nQ 42.390625 20.75 42.875 17.828125 \r\nQ 31.546875 10.6875 21.1875 3.5625 \r\nQ 18.453125 1.609375 16.3125 -0.53125 \r\nL 11.03125 6.78125 \r\nQ 14.359375 9.90625 14.359375 15.671875 \r\nL 14.359375 47.078125 \r\nL 2.25 45.75 \r\nL 1.65625 53.265625 \r\nL 14.359375 54.6875 \r\nL 14.359375 83.640625 \r\nL 21.96875 83.640625 \r\nL 21.96875 55.515625 \r\nL 41.890625 57.765625 \r\nL 42.484375 50.25 \r\nL 21.96875 47.953125 \r\nL 21.96875 14.3125 \r\nQ 32.125 20.453125 42.09375 26.90625 \r\nz\r\n\" id=\"MicrosoftYaHei-20999\"/>\r\n       <path d=\"M 30.765625 -5.421875 \r\nQ 49.125 1.171875 62.546875 9.859375 \r\nQ 59.078125 18.703125 57.078125 30.8125 \r\nL 36.234375 27.875 \r\nL 35.0625 34.90625 \r\nL 56.109375 37.84375 \r\nQ 55.28125 44.671875 54.890625 52.4375 \r\nL 37.203125 50.4375 \r\nL 36.03125 57.46875 \r\nL 54.5 59.515625 \r\nQ 53.953125 69.671875 53.515625 82.859375 \r\nL 61.53125 82.859375 \r\nQ 61.765625 70.265625 62.15625 60.40625 \r\nL 94.828125 64.109375 \r\nL 95.703125 57.171875 \r\nL 62.453125 53.328125 \r\nQ 62.796875 45.609375 63.578125 38.875 \r\nL 97.265625 43.609375 \r\nL 98.140625 36.671875 \r\nL 64.5 31.890625 \r\nQ 66.15625 21.78125 69 14.3125 \r\nQ 79.34375 22.125 86.234375 31.390625 \r\nL 92.578125 26.609375 \r\nQ 83.796875 16.015625 72.171875 7.421875 \r\nQ 75.921875 0.6875 81.15625 -2.875 \r\nQ 87.59375 -6.6875 89.453125 1.03125 \r\nQ 90.71875 7.28125 91.5 14.890625 \r\nQ 96 12.9375 99.03125 12.0625 \r\nQ 97.359375 1.515625 95.703125 -3.859375 \r\nQ 92.875 -12.15625 86.03125 -12.15625 \r\nQ 78.90625 -12.15625 72.859375 -6.296875 \r\nQ 68.890625 -2.546875 65.765625 3.03125 \r\nQ 52.34375 -5.671875 35.640625 -12.0625 \r\nQ 33.890625 -9.328125 30.765625 -5.421875 \r\nz\r\nM 14.0625 24.078125 \r\nQ 22.75 25.34375 34.578125 27.390625 \r\nQ 33.984375 23.78125 33.6875 19.875 \r\nQ 17.390625 17.328125 5.078125 15.28125 \r\nL 3.515625 22.609375 \r\nQ 10.296875 29.890625 18.40625 43.359375 \r\nQ 10.5 42.921875 3.515625 42.234375 \r\nL 1.65625 48.875 \r\nQ 10.75 61.28125 20.3125 83.640625 \r\nL 27.734375 80.71875 \r\nQ 17.671875 60.890625 10.453125 49.46875 \r\nQ 16.265625 49.65625 22.21875 49.90625 \r\nQ 25.59375 55.90625 29.203125 62.9375 \r\nL 36.421875 59.328125 \r\nQ 24.515625 38.71875 14.0625 24.078125 \r\nz\r\nM 1.65625 1.515625 \r\nQ 18.84375 5.21875 36.421875 9.625 \r\nQ 36.140625 5.71875 36.140625 2.203125 \r\nQ 19.828125 -1.609375 3.8125 -5.90625 \r\nz\r\nM 69.734375 77.6875 \r\nL 73.921875 82.5625 \r\nQ 80.859375 78.171875 88.765625 72.015625 \r\nL 84.078125 66.359375 \r\nQ 75.984375 73.296875 69.734375 77.6875 \r\nz\r\n\" id=\"MicrosoftYaHei-32447\"/>\r\n       <path id=\"MicrosoftYaHei-32\"/>\r\n       <path d=\"M 62.0625 39.015625 \r\nL 12.3125 39.015625 \r\nL 12.3125 46.390625 \r\nL 62.0625 46.390625 \r\nz\r\nM 62.0625 16.453125 \r\nL 12.3125 16.453125 \r\nL 12.3125 23.828125 \r\nL 62.0625 23.828125 \r\nz\r\n\" id=\"MicrosoftYaHei-61\"/>\r\n      </defs>\r\n      <use xlink:href=\"#MicrosoftYaHei-20999\"/>\r\n      <use x=\"100\" xlink:href=\"#MicrosoftYaHei-32447\"/>\r\n      <use x=\"200\" xlink:href=\"#MicrosoftYaHei-32\"/>\r\n      <use x=\"229.589844\" xlink:href=\"#MicrosoftYaHei-40\"/>\r\n      <use x=\"262.988281\" xlink:href=\"#MicrosoftYaHei-120\"/>\r\n      <use x=\"313.671875\" xlink:href=\"#MicrosoftYaHei-61\"/>\r\n      <use x=\"387.841797\" xlink:href=\"#MicrosoftYaHei-49\"/>\r\n      <use x=\"446.484375\" xlink:href=\"#MicrosoftYaHei-41\"/>\r\n     </g>\r\n    </g>\r\n   </g>\r\n  </g>\r\n </g>\r\n <defs>\r\n  <clipPath id=\"p7943aa0fbc\">\r\n   <rect height=\"135.9\" width=\"195.3\" x=\"40.407812\" y=\"7.2\"/>\r\n  </clipPath>\r\n </defs>\r\n</svg>\r\n"
     },
     "metadata": {
      "needs_background": "light"
     }
    }
   ],
   "source": [
    "from tools import plot\n",
    "x=np.arange(0,3,0.1)\n",
    "\n",
    "plot(x,[f(x),2*x-3],'x','f(x)',legend=['f(x)','切线 (x=1)'])"
   ]
  },
  {
   "source": [
    "### 2.4.2 Partial Derivatives(偏微分)\n",
    "\n",
    "$$\n",
    "\\frac{\\partial y}{\\partial x_i}=\\lim_{h\\rightarrow0}\n",
    "    \\frac{f(x_1,\\cdots,x_{i=1},x_i+h,x_{i+1},\\cdots,x_n)-f(x_1,\\cdots,x_i,\\cdots,x_n)}h\n",
    "$$"
   ],
   "cell_type": "markdown",
   "metadata": {}
  },
  {
   "source": [
    "### 2.4.3 Gradients\n",
    "\n",
    "$$\n",
    "\\nabla_{\\mathbf{x}}f(\\mathbf{x})=\n",
    "    [\\frac{\\partial f(\\mathbf{x})}{\\partial x_1},\\frac{\\partial f(\\mathbf{x})}{\\partial x_2},\\cdots,\\frac{\\partial f(\\mathbf{x})}{\\partial x_n}],\n",
    "    \\mathbf{x}=[x_1,x_2,\\cdots,x_n]\n",
    "$$\n",
    "\n",
    "$$\n",
    "\\begin{align*}\n",
    "\\nabla_{\\mathbf{x}} \\mathbf{Ax} &=\\mathbf{A}^T &,\\mathbf{A}\\in\\mathcal{R}^{m\\times n}\\\\\n",
    "\\nabla_{\\mathbf{x}} \\mathbf{x}^T\\mathbf{A} &=\\mathbf{A} &,\\mathbf{A}\\in\\mathcal{R}^{n\\times m}\\\\\n",
    "\\nabla_{\\mathbf{x}} \\mathbf{x}^T\\mathbf{Ax} &=(\\mathbf{A+A}^T)\\mathbf{x} &,\\mathbf{A}\\in\\mathcal{R}^{n\\times n}\\\\\n",
    "\\nabla_{\\mathbf{x}} ||\\mathbf{x}||^2 &= \\nabla_{\\mathbf{x}} \\mathbf{x}^T \\mathbf{x}=2\\mathbf{x}\\\\\n",
    "\\nabla_{\\mathbf{X}} ||\\mathbf{X}||^2_F &= 2\\mathbf{X} &,\\mathbf{X}\\in\\mathcal{R}^{n\\times n}\\\\\n",
    "\\end{align*}\n",
    "$$"
   ],
   "cell_type": "markdown",
   "metadata": {}
  },
  {
   "source": [
    "### 2.4.4 Chain Rule\n",
    "$$\n",
    "\\frac{dy}{dx}=\\frac{dy}{du}\\frac{du}{dx}\n",
    "$$"
   ],
   "cell_type": "markdown",
   "metadata": {}
  }
 ]
}