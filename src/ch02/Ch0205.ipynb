{
 "metadata": {
  "language_info": {
   "codemirror_mode": {
    "name": "ipython",
    "version": 3
   },
   "file_extension": ".py",
   "mimetype": "text/x-python",
   "name": "python",
   "nbconvert_exporter": "python",
   "pygments_lexer": "ipython3",
   "version": "3.8.8-final"
  },
  "orig_nbformat": 2,
  "kernelspec": {
   "name": "python3",
   "display_name": "Python 3.8.8 64-bit ('mxnetcpu': conda)",
   "metadata": {
    "interpreter": {
     "hash": "31501654e2bf4fe29042e125e32fccdc90463327bf0ec9fd2043d87fff9a6008"
    }
   }
  }
 },
 "nbformat": 4,
 "nbformat_minor": 2,
 "cells": [
  {
   "source": [
    "## 2.5 Automaticc Differentiation"
   ],
   "cell_type": "markdown",
   "metadata": {}
  },
  {
   "cell_type": "code",
   "execution_count": 1,
   "metadata": {},
   "outputs": [],
   "source": [
    "from mxnet import autograd,np,npx\n",
    "npx.set_np()"
   ]
  },
  {
   "source": [
    "### 2.5.1 A Simple Example"
   ],
   "cell_type": "markdown",
   "metadata": {}
  },
  {
   "cell_type": "code",
   "execution_count": 26,
   "metadata": {},
   "outputs": [
    {
     "output_type": "execute_result",
     "data": {
      "text/plain": [
       "(array([0., 1., 2., 3.]), None)"
      ]
     },
     "metadata": {},
     "execution_count": 26
    }
   ],
   "source": [
    "x=np.arange(4.0)\n",
    "x, x.grad"
   ]
  },
  {
   "cell_type": "code",
   "execution_count": 28,
   "metadata": {},
   "outputs": [
    {
     "output_type": "execute_result",
     "data": {
      "text/plain": [
       "(array([0., 1., 2., 3.]), array([0., 0., 0., 0.]))"
      ]
     },
     "metadata": {},
     "execution_count": 28
    }
   ],
   "source": [
    "# 为张量分配计算梯度的内存空间\n",
    "x=np.arange(4.0)\n",
    "x.attach_grad()\n",
    "x, x.grad"
   ]
  },
  {
   "cell_type": "code",
   "execution_count": 3,
   "metadata": {},
   "outputs": [
    {
     "output_type": "execute_result",
     "data": {
      "text/plain": [
       "(array(28.), None, None)"
      ]
     },
     "metadata": {},
     "execution_count": 3
    }
   ],
   "source": [
    "# 对比 分配内存前、分配内存后、反向传播后 y.grad 的值\n",
    "x=np.arange(4.0)\n",
    "# 将计算函数置于 `autograd.record` 的范围用于构造计算图\n",
    "with autograd.record():\n",
    "    y=2*np.dot(x,x)\n",
    "y, y.grad, x.grad"
   ]
  },
  {
   "cell_type": "code",
   "execution_count": 4,
   "metadata": {},
   "outputs": [
    {
     "output_type": "execute_result",
     "data": {
      "text/plain": [
       "(array(28.), array(0.), None)"
      ]
     },
     "metadata": {},
     "execution_count": 4
    }
   ],
   "source": [
    "x=np.arange(4.0)\n",
    "with autograd.record():\n",
    "    y=2*np.dot(x,x)\n",
    "y.attach_grad()\n",
    "y, y.grad, x.grad"
   ]
  },
  {
   "cell_type": "code",
   "execution_count": 10,
   "metadata": {},
   "outputs": [
    {
     "output_type": "execute_result",
     "data": {
      "text/plain": [
       "(array(28.), None, array([ 0.,  4.,  8., 12.]))"
      ]
     },
     "metadata": {},
     "execution_count": 10
    }
   ],
   "source": [
    "# 必须为 x 变量提供计算梯度的内存后才可以对函数 y(x) 进行反向传播计算梯度\n",
    "x=np.arange(4.0)\n",
    "x.attach_grad()\n",
    "with autograd.record():\n",
    "    # y=2x^2, y'=4x\n",
    "    y=2*np.dot(x,x)\n",
    "y.backward()\n",
    "y, y.grad, x.grad"
   ]
  },
  {
   "cell_type": "code",
   "execution_count": 18,
   "metadata": {},
   "outputs": [
    {
     "output_type": "execute_result",
     "data": {
      "text/plain": [
       "array([1., 1., 1., 1.])"
      ]
     },
     "metadata": {},
     "execution_count": 18
    }
   ],
   "source": [
    "with autograd.record():\n",
    "    y=x.sum()\n",
    "y.backward()\n",
    "x.grad"
   ]
  },
  {
   "cell_type": "code",
   "execution_count": 21,
   "metadata": {},
   "outputs": [
    {
     "output_type": "execute_result",
     "data": {
      "text/plain": [
       "array([0., 0., 0., 0.])"
      ]
     },
     "metadata": {},
     "execution_count": 21
    }
   ],
   "source": [
    "with autograd.record():\n",
    "    y=x.mean()\n",
    "x.attach_grad()\n",
    "x.grad"
   ]
  },
  {
   "cell_type": "code",
   "execution_count": 58,
   "metadata": {},
   "outputs": [
    {
     "output_type": "execute_result",
     "data": {
      "text/plain": [
       "(array([0., 1., 2., 3.]),\n",
       " array([   0.,   48.,  384., 1296.]),\n",
       " array([ 0.,  2.,  8., 18.]),\n",
       " None,\n",
       " array([  0.,  12., 192., 972.]),\n",
       " None)"
      ]
     },
     "metadata": {},
     "execution_count": 58
    }
   ],
   "source": [
    "# 必须为 x 变量提供计算梯度的内存后才可以对函数 y(x) 进行反向传播计算梯度\n",
    "x=np.arange(4.0)\n",
    "x.attach_grad()\n",
    "with autograd.record():\n",
    "    # y=2x^2, y'=4x\n",
    "    y=2*x*x\n",
    "    z=3*y*y   # z'=48x^3\n",
    "z.backward()\n",
    "x, x.grad, y, y.grad, z, z.grad"
   ]
  },
  {
   "cell_type": "code",
   "execution_count": 62,
   "metadata": {},
   "outputs": [
    {
     "output_type": "stream",
     "name": "stdout",
     "text": [
      "[0. 1. 2. 3.] [0. 0. 0. 0.]\n[0. 1. 2. 3.] [0. 0. 0. 0.] [ 0.  2.  8. 18.] [0. 0. 0. 0.] [  0.  12. 192. 972.] None\n[0. 1. 2. 3.] [   0.   48.  384. 1296.] [ 0.  2.  8. 18.] [0. 0. 0. 0.] [  0.  12. 192. 972.] None\n"
     ]
    },
    {
     "output_type": "execute_result",
     "data": {
      "text/plain": [
       "(array([0., 1., 2., 3.]),\n",
       " array([   0.,   48.,  384., 1296.]),\n",
       " array([ 0.,  2.,  8., 18.]),\n",
       " array([0., 0., 0., 0.]),\n",
       " array([  0.,  12., 192., 972.]),\n",
       " None)"
      ]
     },
     "metadata": {},
     "execution_count": 62
    }
   ],
   "source": [
    "x=np.arange(4.0)\n",
    "x.attach_grad()\n",
    "print(x,x.grad)\n",
    "# 必须为 x 变量提供计算梯度的内存后才可以对函数 y(x) 进行反向传播计算梯度\n",
    "with autograd.record():\n",
    "    # y=2x^2, y'=4x\n",
    "    y=2*x*x\n",
    "    z=3*y*y\n",
    "y.attach_grad()\n",
    "print(x, x.grad, y, y.grad, z, z.grad)\n",
    "z.backward()\n",
    "print(x, x.grad, y, y.grad, z, z.grad)\n",
    "x, x.grad, y, y.grad, z, z.grad"
   ]
  },
  {
   "cell_type": "code",
   "execution_count": 59,
   "metadata": {},
   "outputs": [
    {
     "output_type": "stream",
     "name": "stdout",
     "text": [
      "[0. 1. 2. 3.] [0. 0. 0. 0.]\n[0. 1. 2. 3.] [0. 0. 0. 0.] [ 0.  2.  8. 18.] [0. 0. 0. 0.] [  0.  12. 192. 972.] None\n[0. 1. 2. 3.] [0. 0. 0. 0.] [ 0.  2.  8. 18.] [1. 1. 1. 1.] [  0.  12. 192. 972.] None\n[0. 1. 2. 3.] [   0.   48.  384. 1296.] [ 0.  2.  8. 18.] [1. 1. 1. 1.] [  0.  12. 192. 972.] None\n"
     ]
    },
    {
     "output_type": "execute_result",
     "data": {
      "text/plain": [
       "(array([ 0.,  2.,  8., 18.]),\n",
       " array([1., 1., 1., 1.]),\n",
       " array([  0.,  12., 192., 972.]),\n",
       " None,\n",
       " array([   0.,   48.,  384., 1296.]))"
      ]
     },
     "metadata": {},
     "execution_count": 59
    }
   ],
   "source": [
    "x=np.arange(4.0)\n",
    "x.attach_grad()\n",
    "print(x,x.grad)\n",
    "# 必须为 x 变量提供计算梯度的内存后才可以对函数 y(x) 进行反向传播计算梯度\n",
    "with autograd.record():\n",
    "    # y=2x^2, y'=4x\n",
    "    y=2*x*x\n",
    "    z=3*y*y\n",
    "y.attach_grad()\n",
    "print(x, x.grad, y, y.grad, z, z.grad)\n",
    "y.backward()\n",
    "print(x, x.grad, y, y.grad, z, z.grad)\n",
    "z.backward()\n",
    "print(x, x.grad, y, y.grad, z, z.grad)\n",
    "y, y.grad, z, z.grad, x.grad"
   ]
  },
  {
   "source": [
    "### 2.5.2 Backward for Non-Scalar Variables"
   ],
   "cell_type": "markdown",
   "metadata": {}
  },
  {
   "cell_type": "code",
   "execution_count": 70,
   "metadata": {},
   "outputs": [
    {
     "output_type": "execute_result",
     "data": {
      "text/plain": [
       "(array([0., 1., 2., 3.]),\n",
       " array([ 0.,  3., 12., 27.]),\n",
       " array([0., 1., 4., 9.]),\n",
       " None,\n",
       " array([ 0.,  1.,  8., 27.]),\n",
       " None)"
      ]
     },
     "metadata": {},
     "execution_count": 70
    }
   ],
   "source": [
    "x=np.arange(4.0)\n",
    "x.attach_grad()\n",
    "with autograd.record():\n",
    "    y=x*x\n",
    "    z=y*x\n",
    "z.backward()\n",
    "x, x.grad, y, y.grad, z, z.grad"
   ]
  },
  {
   "cell_type": "code",
   "execution_count": 68,
   "metadata": {},
   "outputs": [
    {
     "output_type": "execute_result",
     "data": {
      "text/plain": [
       "(array([0., 1., 2., 3.]),\n",
       " array([0., 1., 4., 9.]),\n",
       " array([0., 1., 4., 9.]),\n",
       " None,\n",
       " array([0., 1., 4., 9.]),\n",
       " None,\n",
       " array([ 0.,  1.,  8., 27.]),\n",
       " None)"
      ]
     },
     "metadata": {},
     "execution_count": 68
    }
   ],
   "source": [
    "x=np.arange(4.0)\n",
    "x.attach_grad()\n",
    "with autograd.record():\n",
    "    y=x*x\n",
    "    u=y.detach()\n",
    "    z=u*x\n",
    "z.backward()\n",
    "x, x.grad, y, y.grad, u, u.grad, z, z.grad"
   ]
  },
  {
   "source": [
    "### 2.5.4 Computing the Gradient of Python Control Flow"
   ],
   "cell_type": "markdown",
   "metadata": {}
  },
  {
   "cell_type": "code",
   "execution_count": 73,
   "metadata": {},
   "outputs": [],
   "source": [
    "def f(x):\n",
    "    y=x*2\n",
    "    while np.linalg.norm(y)<1000:\n",
    "        y=y*2\n",
    "    if y.sum()>0:\n",
    "        z=y\n",
    "    else:\n",
    "        z=100*y\n",
    "    print(x,y,z)\n",
    "    return z"
   ]
  },
  {
   "cell_type": "code",
   "execution_count": 77,
   "metadata": {},
   "outputs": [
    {
     "output_type": "stream",
     "name": "stdout",
     "text": [
      "-1.1688148 -1196.8663 -119686.63\n"
     ]
    },
    {
     "output_type": "execute_result",
     "data": {
      "text/plain": [
       "(array(-1.1688148), array(0.), array(-119686.63), None)"
      ]
     },
     "metadata": {},
     "execution_count": 77
    }
   ],
   "source": [
    "x=np.random.normal()\n",
    "x.attach_grad()\n",
    "with autograd.record():\n",
    "    y=f(x)\n",
    "y.backward\n",
    "x, x.grad, y, y.grad"
   ]
  }
 ]
}