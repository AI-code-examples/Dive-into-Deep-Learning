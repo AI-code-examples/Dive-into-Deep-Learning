{
 "metadata": {
  "language_info": {
   "codemirror_mode": {
    "name": "ipython",
    "version": 3
   },
   "file_extension": ".py",
   "mimetype": "text/x-python",
   "name": "python",
   "nbconvert_exporter": "python",
   "pygments_lexer": "ipython3",
   "version": "3.8.8-final"
  },
  "orig_nbformat": 2,
  "kernelspec": {
   "name": "python3",
   "display_name": "Python 3.8.8 64-bit ('mxnetcpu': conda)",
   "metadata": {
    "interpreter": {
     "hash": "31501654e2bf4fe29042e125e32fccdc90463327bf0ec9fd2043d87fff9a6008"
    }
   }
  }
 },
 "nbformat": 4,
 "nbformat_minor": 2,
 "cells": [
  {
   "source": [
    "## 2.3 Linear Algebra\n",
    "### 2.3.1 Scalars(标量)"
   ],
   "cell_type": "markdown",
   "metadata": {}
  },
  {
   "cell_type": "code",
   "execution_count": 3,
   "metadata": {},
   "outputs": [
    {
     "output_type": "execute_result",
     "data": {
      "text/plain": [
       "(array(5.), array(1.), array(6.), array(1.5), array(9.))"
      ]
     },
     "metadata": {},
     "execution_count": 3
    }
   ],
   "source": [
    "from mxnet import np,npx\n",
    "npx.set_np()\n",
    "x,y =np.array(3.0), np.array(2.0)\n",
    "x+y, x-y, x*y, x/y, x**y"
   ]
  },
  {
   "source": [
    "### 2.3.2 Vectors(向量)"
   ],
   "cell_type": "markdown",
   "metadata": {}
  },
  {
   "cell_type": "code",
   "execution_count": 4,
   "metadata": {},
   "outputs": [
    {
     "output_type": "execute_result",
     "data": {
      "text/plain": [
       "(array([0., 1., 2., 3.]), array(3.), 4, (4,))"
      ]
     },
     "metadata": {},
     "execution_count": 4
    }
   ],
   "source": [
    "x=np.arange(4)\n",
    "x, x[3], len(x), x.shape"
   ]
  },
  {
   "source": [
    "### 2.3.3 Matrices"
   ],
   "cell_type": "markdown",
   "metadata": {}
  },
  {
   "cell_type": "code",
   "execution_count": 5,
   "metadata": {},
   "outputs": [
    {
     "output_type": "execute_result",
     "data": {
      "text/plain": [
       "(array([[ 0.,  1.,  2.,  3.],\n",
       "        [ 4.,  5.,  6.,  7.],\n",
       "        [ 8.,  9., 10., 11.],\n",
       "        [12., 13., 14., 15.],\n",
       "        [16., 17., 18., 19.]]),\n",
       " array([[ 0.,  4.,  8., 12., 16.],\n",
       "        [ 1.,  5.,  9., 13., 17.],\n",
       "        [ 2.,  6., 10., 14., 18.],\n",
       "        [ 3.,  7., 11., 15., 19.]]))"
      ]
     },
     "metadata": {},
     "execution_count": 5
    }
   ],
   "source": [
    "A=np.arange(20).reshape(5,4)\n",
    "A, A.T"
   ]
  },
  {
   "cell_type": "code",
   "execution_count": 6,
   "metadata": {},
   "outputs": [
    {
     "output_type": "execute_result",
     "data": {
      "text/plain": [
       "array([[ True,  True,  True],\n",
       "       [ True,  True,  True],\n",
       "       [ True,  True,  True]])"
      ]
     },
     "metadata": {},
     "execution_count": 6
    }
   ],
   "source": [
    "B=np.array([[1,2,3],[2,0,4],[3,4,5]])\n",
    "B==B.T"
   ]
  },
  {
   "source": [
    "### 2.3.4 Tensors(张量)"
   ],
   "cell_type": "markdown",
   "metadata": {}
  },
  {
   "cell_type": "code",
   "execution_count": 7,
   "metadata": {},
   "outputs": [
    {
     "output_type": "execute_result",
     "data": {
      "text/plain": [
       "(array([[[ 0.,  1.,  2.,  3.],\n",
       "         [ 4.,  5.,  6.,  7.],\n",
       "         [ 8.,  9., 10., 11.]],\n",
       " \n",
       "        [[12., 13., 14., 15.],\n",
       "         [16., 17., 18., 19.],\n",
       "         [20., 21., 22., 23.]]]),\n",
       " array([[[ 0., 12.],\n",
       "         [ 4., 16.],\n",
       "         [ 8., 20.]],\n",
       " \n",
       "        [[ 1., 13.],\n",
       "         [ 5., 17.],\n",
       "         [ 9., 21.]],\n",
       " \n",
       "        [[ 2., 14.],\n",
       "         [ 6., 18.],\n",
       "         [10., 22.]],\n",
       " \n",
       "        [[ 3., 15.],\n",
       "         [ 7., 19.],\n",
       "         [11., 23.]]]))"
      ]
     },
     "metadata": {},
     "execution_count": 7
    }
   ],
   "source": [
    "X=np.arange(24).reshape(2,3,4)\n",
    "X, X.T"
   ]
  },
  {
   "source": [
    "### 2.3.5 Basic Properties of Tensor Arithmetic(张量代数)"
   ],
   "cell_type": "markdown",
   "metadata": {}
  },
  {
   "cell_type": "code",
   "execution_count": 8,
   "metadata": {},
   "outputs": [
    {
     "output_type": "execute_result",
     "data": {
      "text/plain": [
       "(array([[ 0.,  1.,  2.,  3.],\n",
       "        [ 4.,  5.,  6.,  7.],\n",
       "        [ 8.,  9., 10., 11.],\n",
       "        [12., 13., 14., 15.],\n",
       "        [16., 17., 18., 19.]]),\n",
       " array([[ 0.,  2.,  4.,  6.],\n",
       "        [ 8., 10., 12., 14.],\n",
       "        [16., 18., 20., 22.],\n",
       "        [24., 26., 28., 30.],\n",
       "        [32., 34., 36., 38.]]),\n",
       " array([[  0.,   1.,   4.,   9.],\n",
       "        [ 16.,  25.,  36.,  49.],\n",
       "        [ 64.,  81., 100., 121.],\n",
       "        [144., 169., 196., 225.],\n",
       "        [256., 289., 324., 361.]]))"
      ]
     },
     "metadata": {},
     "execution_count": 8
    }
   ],
   "source": [
    "A=np.arange(20).reshape(5,4)\n",
    "B=A.copy()  # 分配新的内存，存放 A 的复制值\n",
    "A, A+B, A*B"
   ]
  },
  {
   "cell_type": "code",
   "execution_count": 9,
   "metadata": {},
   "outputs": [
    {
     "output_type": "execute_result",
     "data": {
      "text/plain": [
       "(array([[[ 2.,  3.,  4.,  5.],\n",
       "         [ 6.,  7.,  8.,  9.],\n",
       "         [10., 11., 12., 13.]],\n",
       " \n",
       "        [[14., 15., 16., 17.],\n",
       "         [18., 19., 20., 21.],\n",
       "         [22., 23., 24., 25.]]]),\n",
       " (2, 3, 4))"
      ]
     },
     "metadata": {},
     "execution_count": 9
    }
   ],
   "source": [
    "a=2\n",
    "X=np.arange(24).reshape(2,3,4)\n",
    "a+X, (a+X).shape"
   ]
  },
  {
   "source": [
    "### 2.3.6 Reduction(数据降维)"
   ],
   "cell_type": "markdown",
   "metadata": {}
  },
  {
   "cell_type": "code",
   "execution_count": 10,
   "metadata": {},
   "outputs": [
    {
     "output_type": "execute_result",
     "data": {
      "text/plain": [
       "(array([0., 1., 2., 3.]), (4,), array(6.), ())"
      ]
     },
     "metadata": {},
     "execution_count": 10
    }
   ],
   "source": [
    "x=np.arange(4)\n",
    "x, x.shape, x.sum(), x.sum().shape"
   ]
  },
  {
   "cell_type": "code",
   "execution_count": 11,
   "metadata": {},
   "outputs": [
    {
     "output_type": "execute_result",
     "data": {
      "text/plain": [
       "(20, (5, 4), array(190.))"
      ]
     },
     "metadata": {},
     "execution_count": 11
    }
   ],
   "source": [
    "A=np.arange(20).reshape(5,4)\n",
    "A.size, A.shape, A.sum()"
   ]
  },
  {
   "cell_type": "code",
   "execution_count": 12,
   "metadata": {},
   "outputs": [
    {
     "output_type": "execute_result",
     "data": {
      "text/plain": [
       "(array([40., 45., 50., 55.]),\n",
       " (4,),\n",
       " array([ 6., 22., 38., 54., 70.]),\n",
       " (5,),\n",
       " array(190.))"
      ]
     },
     "metadata": {},
     "execution_count": 12
    }
   ],
   "source": [
    "A_sum_axis0=A.sum(axis=0)\n",
    "A_sum_axis1=A.sum(axis=1)\n",
    "A_sum=A.sum(axis=[0,1])\n",
    "A_sum_axis0, A_sum_axis0.shape, A_sum_axis1, A_sum_axis1.shape, A_sum"
   ]
  },
  {
   "cell_type": "code",
   "execution_count": 13,
   "metadata": {},
   "outputs": [
    {
     "output_type": "execute_result",
     "data": {
      "text/plain": [
       "(array(9.5), array(9.5))"
      ]
     },
     "metadata": {},
     "execution_count": 13
    }
   ],
   "source": [
    "A=np.arange(20).reshape(5,4)\n",
    "A.mean(), A.sum()/A.size"
   ]
  },
  {
   "cell_type": "code",
   "execution_count": 14,
   "metadata": {},
   "outputs": [
    {
     "output_type": "execute_result",
     "data": {
      "text/plain": [
       "(array([ 8.,  9., 10., 11.]), array([ 8.,  9., 10., 11.]))"
      ]
     },
     "metadata": {},
     "execution_count": 14
    }
   ],
   "source": [
    "A.mean(axis=0), A.sum(axis=0)/A.shape[0]"
   ]
  },
  {
   "cell_type": "code",
   "execution_count": 15,
   "metadata": {},
   "outputs": [
    {
     "output_type": "execute_result",
     "data": {
      "text/plain": [
       "(array([[ 6.],\n",
       "        [22.],\n",
       "        [38.],\n",
       "        [54.],\n",
       "        [70.]]),\n",
       " array([[0.        , 0.16666667, 0.33333334, 0.5       ],\n",
       "        [0.18181819, 0.22727273, 0.27272728, 0.3181818 ],\n",
       "        [0.21052632, 0.23684211, 0.2631579 , 0.28947368],\n",
       "        [0.22222222, 0.24074075, 0.25925925, 0.2777778 ],\n",
       "        [0.22857143, 0.24285714, 0.25714287, 0.27142859]]))"
      ]
     },
     "metadata": {},
     "execution_count": 15
    }
   ],
   "source": [
    "# 不降维求和\n",
    "sum_A=A.sum(axis=1, keepdims=True)\n",
    "sum_A, A/sum_A"
   ]
  },
  {
   "cell_type": "code",
   "execution_count": 16,
   "metadata": {},
   "outputs": [
    {
     "output_type": "execute_result",
     "data": {
      "text/plain": [
       "(array([[ 0.,  1.,  2.,  3.],\n",
       "        [ 4.,  6.,  8., 10.],\n",
       "        [12., 15., 18., 21.],\n",
       "        [24., 28., 32., 36.],\n",
       "        [40., 45., 50., 55.]]),\n",
       " array([[ 0.,  1.,  3.,  6.],\n",
       "        [ 4.,  9., 15., 22.],\n",
       "        [ 8., 17., 27., 38.],\n",
       "        [12., 25., 39., 54.],\n",
       "        [16., 33., 51., 70.]]),\n",
       " array([  0.,   1.,   3.,   6.,  10.,  15.,  21.,  28.,  36.,  45.,  55.,\n",
       "         66.,  78.,  91., 105., 120., 136., 153., 171., 190.]))"
      ]
     },
     "metadata": {},
     "execution_count": 16
    }
   ],
   "source": [
    "#  累积求和\n",
    "A.cumsum(axis=0), A.cumsum(axis=1), A.cumsum()"
   ]
  },
  {
   "source": [
    "### 2.3.7 Dot Products(向量点积，向量乘向量)"
   ],
   "cell_type": "markdown",
   "metadata": {}
  },
  {
   "cell_type": "code",
   "execution_count": 17,
   "metadata": {},
   "outputs": [
    {
     "output_type": "execute_result",
     "data": {
      "text/plain": [
       "(array([0., 1., 2., 3.]),\n",
       " array([1., 1., 1., 1.]),\n",
       " array([0., 1., 2., 3.]),\n",
       " array(6.),\n",
       " array(6.))"
      ]
     },
     "metadata": {},
     "execution_count": 17
    }
   ],
   "source": [
    "x=np.arange(4)\n",
    "y=np.ones(4)\n",
    "x, y, x*y, np.dot(x,y), np.sum(x*y)"
   ]
  },
  {
   "source": [
    "### 2.3.8 Matrix-Vecotr Products(矩阵乘向量)"
   ],
   "cell_type": "markdown",
   "metadata": {}
  },
  {
   "cell_type": "code",
   "execution_count": 18,
   "metadata": {},
   "outputs": [
    {
     "output_type": "execute_result",
     "data": {
      "text/plain": [
       "((5, 4), (4,), array([ 14.,  38.,  62.,  86., 110.]))"
      ]
     },
     "metadata": {},
     "execution_count": 18
    }
   ],
   "source": [
    "A=np.arange(20).reshape(5,4)\n",
    "x=np.arange(4)\n",
    "A.shape, x.shape, np.dot(A,x)"
   ]
  },
  {
   "source": [
    "### 2.3.9 Matrix-Matrix Multiplication(矩阵乘矩阵)"
   ],
   "cell_type": "markdown",
   "metadata": {}
  },
  {
   "cell_type": "code",
   "execution_count": 19,
   "metadata": {},
   "outputs": [
    {
     "output_type": "execute_result",
     "data": {
      "text/plain": [
       "array([[ 6.,  6.,  6.],\n",
       "       [22., 22., 22.],\n",
       "       [38., 38., 38.],\n",
       "       [54., 54., 54.],\n",
       "       [70., 70., 70.]])"
      ]
     },
     "metadata": {},
     "execution_count": 19
    }
   ],
   "source": [
    "A=np.arange(20).reshape(5,4)\n",
    "B=np.ones(shape=(4,3))\n",
    "np.dot(A,B)"
   ]
  },
  {
   "source": [
    "### 2.3.10 Norms(范数)\n",
    "\n",
    "向量范数：\n",
    "-   $L_2$ 范数：$||\\mathbf{x}||_2=\\sqrt{\\sum_{i=1}^n x_i^2}$\n",
    "-   $L_1$ 范数：$||\\mathbf{x}||_1=\\sum_{i=1}^n |x_i|$\n",
    "-   $L_p$ 范数：$||\\mathbf{x}||_p=(\\sum_{i=1}^n |x_i|^p)^{1/p}$\n",
    "\n",
    "矩阵范数：\n",
    "Frobenius 范数：$||\\mathbf{X}||_F=\\sqrt{\\sum_{i=1}^m\\sum_{j=1}^n x_{ij}^2}$"
   ],
   "cell_type": "markdown",
   "metadata": {}
  },
  {
   "cell_type": "code",
   "execution_count": 20,
   "metadata": {},
   "outputs": [
    {
     "output_type": "execute_result",
     "data": {
      "text/plain": [
       "(array(5.), array(7.), array(6.))"
      ]
     },
     "metadata": {},
     "execution_count": 20
    }
   ],
   "source": [
    "#L_2, L_1, X_F\n",
    "u=np.array([3,-4])\n",
    "X=np.ones((4,9))\n",
    "np.linalg.norm(u), np.abs(u).sum(), np.linalg.norm(X)"
   ]
  }
 ]
}