{
 "metadata": {
  "language_info": {
   "codemirror_mode": {
    "name": "ipython",
    "version": 3
   },
   "file_extension": ".py",
   "mimetype": "text/x-python",
   "name": "python",
   "nbconvert_exporter": "python",
   "pygments_lexer": "ipython3",
   "version": "3.8.8-final"
  },
  "orig_nbformat": 2,
  "kernelspec": {
   "name": "python3",
   "display_name": "Python 3.8.8 64-bit ('mxnetcpu': conda)",
   "metadata": {
    "interpreter": {
     "hash": "31501654e2bf4fe29042e125e32fccdc90463327bf0ec9fd2043d87fff9a6008"
    }
   }
  }
 },
 "nbformat": 4,
 "nbformat_minor": 2,
 "cells": [
  {
   "source": [
    "## 3.3 Concise Implementation of Linear Regression\n",
    "### 3.3.1 Generating the Dataset"
   ],
   "cell_type": "markdown",
   "metadata": {}
  },
  {
   "cell_type": "code",
   "execution_count": 1,
   "metadata": {},
   "outputs": [],
   "source": [
    "from d2l import mxnet as d2l\n",
    "from mxnet import autograd,gluon, np, npx\n",
    "npx.set_np()"
   ]
  },
  {
   "cell_type": "code",
   "execution_count": 2,
   "metadata": {},
   "outputs": [],
   "source": [
    "true_w=np.array([2,-3.4])\n",
    "true_b=4.2\n",
    "features, labels=d2l.synthetic_data(true_w,true_b,1000)"
   ]
  },
  {
   "source": [
    "### 3.3.2 Reading the Dataset"
   ],
   "cell_type": "markdown",
   "metadata": {}
  },
  {
   "cell_type": "code",
   "execution_count": 3,
   "metadata": {},
   "outputs": [],
   "source": [
    "def load_array(data_arrays, batch_size, is_train=True):\n",
    "    \"\"\"Construct a gluon data iterator\"\"\"\n",
    "    dataset=gluon.data.ArrayDataset(*data_arrays)\n",
    "    return gluon.data.DataLoader(dataset, batch_size, shuffle=is_train)"
   ]
  },
  {
   "cell_type": "code",
   "execution_count": 4,
   "metadata": {},
   "outputs": [],
   "source": [
    "batch_size=10\n",
    "data_iter=load_array((features, labels), batch_size)"
   ]
  },
  {
   "cell_type": "code",
   "execution_count": 5,
   "metadata": {},
   "outputs": [
    {
     "output_type": "execute_result",
     "data": {
      "text/plain": [
       "[array([[-0.42182946, -0.22930646],\n",
       "        [ 0.8301537 ,  0.77279943],\n",
       "        [ 1.3005846 , -0.6116391 ],\n",
       "        [-0.35396403,  0.00955428],\n",
       "        [ 1.3111951 ,  1.2040559 ],\n",
       "        [-0.9185634 ,  2.0088325 ],\n",
       "        [ 0.8166484 , -0.39319617],\n",
       "        [-0.6441541 ,  0.7260685 ],\n",
       "        [-0.28378814,  0.6376775 ],\n",
       "        [-0.694951  , -0.00414529]]),\n",
       " array([[ 4.1577287 ],\n",
       "        [ 3.225766  ],\n",
       "        [ 8.882317  ],\n",
       "        [ 3.4600995 ],\n",
       "        [ 2.7131693 ],\n",
       "        [-4.4819984 ],\n",
       "        [ 7.173542  ],\n",
       "        [ 0.44366717],\n",
       "        [ 1.4705384 ],\n",
       "        [ 2.8267581 ]])]"
      ]
     },
     "metadata": {},
     "execution_count": 5
    }
   ],
   "source": [
    "next(iter(data_iter))"
   ]
  },
  {
   "source": [
    "### 3.3.3 Defining the Model"
   ],
   "cell_type": "markdown",
   "metadata": {}
  },
  {
   "cell_type": "code",
   "execution_count": 6,
   "metadata": {},
   "outputs": [],
   "source": [
    "from mxnet.gluon import nn\n",
    "net=nn.Sequential()\n",
    "net.add(nn.Dense(1))"
   ]
  },
  {
   "source": [
    "### 3.3.4 Initializing Model Parameters"
   ],
   "cell_type": "markdown",
   "metadata": {}
  },
  {
   "cell_type": "code",
   "execution_count": 8,
   "metadata": {},
   "outputs": [],
   "source": [
    "from mxnet import init\n",
    "net.initialize(init.Normal(sigma=0.01))"
   ]
  },
  {
   "source": [
    "### 3.3.5 Defining the Loss Function"
   ],
   "cell_type": "markdown",
   "metadata": {}
  },
  {
   "cell_type": "code",
   "execution_count": 9,
   "metadata": {},
   "outputs": [],
   "source": [
    "loss=gluon.loss.L2Loss()"
   ]
  },
  {
   "source": [
    "### 3.3.6 Defining the Optimization Algorithm"
   ],
   "cell_type": "markdown",
   "metadata": {}
  },
  {
   "cell_type": "code",
   "execution_count": 10,
   "metadata": {},
   "outputs": [],
   "source": [
    "from mxnet import gluon\n",
    "trainer=gluon.Trainer(net.collect_params(),'sgd',{'learning_rate':0.03})"
   ]
  },
  {
   "cell_type": "code",
   "execution_count": 11,
   "metadata": {},
   "outputs": [
    {
     "output_type": "stream",
     "name": "stdout",
     "text": [
      "epoch: 1, loss: 0.050306\nepoch: 2, loss: 0.000215\nepoch: 3, loss: 0.000052\n"
     ]
    }
   ],
   "source": [
    "num_epochs=3\n",
    "for epoch in range(num_epochs):\n",
    "    for X,y in data_iter:\n",
    "        with autograd.record():\n",
    "            l=loss(net(X),y)\n",
    "        l.backward()\n",
    "        trainer.step(batch_size)\n",
    "    l=loss(net(features), labels)\n",
    "    print(f\"epoch: {epoch+1}, loss: {l.mean().asnumpy():f}\")"
   ]
  },
  {
   "cell_type": "code",
   "execution_count": 12,
   "metadata": {},
   "outputs": [
    {
     "output_type": "stream",
     "name": "stdout",
     "text": [
      "error in estimating w: [ 5.9127808e-04 -4.6253204e-05]\nerror in estimating b: [0.00153303]\n"
     ]
    }
   ],
   "source": [
    "w=net[0].weight.data()\n",
    "print(f\"error in estimating w: {true_w-w.reshape(true_w.shape)}\")\n",
    "b=net[0].bias.data()\n",
    "print(f\"error in estimating b: {true_b-b}\")"
   ]
  }
 ]
}