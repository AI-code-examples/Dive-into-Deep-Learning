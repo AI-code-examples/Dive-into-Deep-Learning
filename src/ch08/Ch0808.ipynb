{
 "metadata": {
  "language_info": {
   "codemirror_mode": {
    "name": "ipython",
    "version": 3
   },
   "file_extension": ".py",
   "mimetype": "text/x-python",
   "name": "python",
   "nbconvert_exporter": "python",
   "pygments_lexer": "ipython3",
   "version": 3
  },
  "orig_nbformat": 2
 },
 "nbformat": 4,
 "nbformat_minor": 2,
 "cells": [
  {
   "source": [
    "## 8.7 Backpropagation Through Time\n",
    "\n",
    "通过学习 RNN 中梯度的计算和存储方法（即通过时间反向传播）来了解裁剪梯度对于模型训练的作用。"
   ],
   "cell_type": "markdown",
   "metadata": {}
  },
  {
   "source": [
    "### 8.7.1 Analysis of Gradients in RNNs\n",
    "\n",
    "$$\n",
    "\\begin{aligned}\n",
    "h_t &=  f(x_t,h_{t-1},w_h)\\\\\n",
    "o_t &=  g(h_t,w_o)\n",
    "\\end{aligned}\n",
    "$$\n",
    "\n",
    "$L(x_1,\\cdots,x_T,y_1,\\cdots,y_T,w_h,w_o)=\\frac1T\\sum_{t=1}^T l(y_t,o_t)$\n",
    "\n",
    "$$\n"
   ],
   "cell_type": "markdown",
   "metadata": {}
  }
 ]
}